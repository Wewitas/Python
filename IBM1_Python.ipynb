{
  "nbformat": 4,
  "nbformat_minor": 0,
  "metadata": {
    "colab": {
      "provenance": [],
      "collapsed_sections": [
        "0WWS60jZqFKe",
        "n55Kwql0MPz1",
        "NNNkABveaQnL",
        "QrHqwnfSltUG",
        "xbjfFlO6OyZn",
        "7Jpd0LR9TXTw",
        "5QKoEpuvW0Ow",
        "lGerqDQgW6Qz",
        "tyMDo8i2l5aJ",
        "fhm89g1dyCmQ",
        "XXgaNUkM6V3A",
        "WWUPLzQEIJ8t",
        "dpM5UllrUAQf",
        "40vSxT5sq7Ge",
        "JEkI2KxY4aZ8",
        "pfkRGBam72Ew",
        "89SRzNdr9AR8",
        "tmnytdSYoQSU",
        "naqcha9rKLqj",
        "oUroqCcBfQ8K",
        "bOTuegWk9YZm",
        "3WQdK7R9Tpc2",
        "7DMZ-RLvq_Li",
        "RJhYsn773ciy",
        "74XeALcu-ndn",
        "UOfdEp-w4gzu",
        "Y64OoOs1UGlu",
        "UJyDunKYgQCq",
        "1xX_mSM_TiNQ",
        "ShedmABOV5as",
        "xOW2WHTfvBYP",
        "EQayvoTGnPxo",
        "u48W2DOVIMhM"
      ],
      "toc_visible": true,
      "include_colab_link": true
    },
    "kernelspec": {
      "name": "python3",
      "display_name": "Python 3"
    },
    "language_info": {
      "name": "python"
    }
  },
  "cells": [
    {
      "cell_type": "markdown",
      "metadata": {
        "id": "view-in-github",
        "colab_type": "text"
      },
      "source": [
        "<a href=\"https://colab.research.google.com/github/Wewitas/Python/blob/main/IBM1_Python.ipynb\" target=\"_parent\"><img src=\"https://colab.research.google.com/assets/colab-badge.svg\" alt=\"Open In Colab\"/></a>"
      ]
    },
    {
      "cell_type": "markdown",
      "source": [
        "\n",
        "# Python for Data Science (IBM)"
      ],
      "metadata": {
        "id": "6iRdCa4sdBwb"
      }
    },
    {
      "cell_type": "markdown",
      "source": [
        "## Módulo 1. Python Basics"
      ],
      "metadata": {
        "id": "6YA23THMdS1k"
      }
    },
    {
      "cell_type": "markdown",
      "source": [
        "#### Your First Program (1:15)"
      ],
      "metadata": {
        "id": "5sAkAWtrdiOc"
      }
    },
    {
      "cell_type": "code",
      "source": [
        "print(\"Hello world\")\n",
        "print(\"Hello\\nWorld!\")\n",
        "# print('Hello World!')"
      ],
      "metadata": {
        "colab": {
          "base_uri": "https://localhost:8080/"
        },
        "id": "wPT-dGDcdAzV",
        "outputId": "73296793-5775-4822-9914-d9cff646b8c0"
      },
      "execution_count": null,
      "outputs": [
        {
          "output_type": "stream",
          "name": "stdout",
          "text": [
            "Hello world\n",
            "Hello\n",
            "World!\n"
          ]
        }
      ]
    },
    {
      "cell_type": "markdown",
      "source": [
        "#### Types"
      ],
      "metadata": {
        "id": "m5nch5AYd26U"
      }
    },
    {
      "cell_type": "code",
      "source": [
        "print(int(1.0))\n",
        "print(bool(1))\n",
        "print(type(\"Hello World\"))\n",
        "print(type(\"1.1\"))\n",
        "print(int(\"1\"))\n",
        "print(bool(\"1\"))"
      ],
      "metadata": {
        "colab": {
          "base_uri": "https://localhost:8080/"
        },
        "id": "6ShiQxENeAgE",
        "outputId": "2c86b371-c0c5-4145-9bc0-c8e4dfe15cc1"
      },
      "execution_count": null,
      "outputs": [
        {
          "output_type": "stream",
          "name": "stdout",
          "text": [
            "1\n",
            "True\n",
            "<class 'str'>\n",
            "<class 'str'>\n",
            "1\n",
            "True\n"
          ]
        }
      ]
    },
    {
      "cell_type": "markdown",
      "source": [
        "#### Expression and Variables (3:50)\n",
        "Las expresiones describen un tipo de operación que las computadoras pueden llevar a cabo. Llamamos a los números operandos y a los simbolos matemáticos operadores."
      ],
      "metadata": {
        "id": "WpNjWv0cu1lg"
      }
    },
    {
      "cell_type": "code",
      "source": [
        "suma=5+1+8+6\n",
        "resta=suma-2\n",
        "division=10/3\n",
        "divisionInt=10//3\n",
        "multiplicacion=5*2\n",
        "exponente=2**2\n",
        "\n",
        "print(suma)\n",
        "print(resta)\n",
        "print(division)\n",
        "print(divisionInt)\n",
        "print(multiplicacion)\n",
        "print(exponente)"
      ],
      "metadata": {
        "colab": {
          "base_uri": "https://localhost:8080/"
        },
        "id": "W4a11ESou8eU",
        "outputId": "3f34af37-e895-4466-b8a0-62a5a75f4952"
      },
      "execution_count": null,
      "outputs": [
        {
          "output_type": "stream",
          "name": "stdout",
          "text": [
            "20\n",
            "18\n",
            "3.3333333333333335\n",
            "3\n",
            "10\n",
            "4\n"
          ]
        }
      ]
    },
    {
      "cell_type": "markdown",
      "source": [
        "#### Lab - Write Your First Python Code!"
      ],
      "metadata": {
        "id": "MrHKHDbJ3Df7"
      }
    },
    {
      "cell_type": "code",
      "source": [
        "#Exercise: Your First Program¶\n",
        "print('Hello, Python!')\n",
        "print(\"Hello, world!\") #Print the traditional hello world\n",
        "#Exercise: Types\n",
        "print(type(6/2))\n",
        "print(type(6//2))\n",
        "#Exercise: Expression, Horas en 160 minutos\n",
        "hours=160/60\n",
        "print(hours)\n",
        "#Exercise: Expression and Variables in Python\n",
        "x=3+2*2\n",
        "y=(3+2)*2\n",
        "z=x+y\n",
        "print(x, y, z)\n",
        "#Repetir caracteres en un string\n",
        "risa=\"ja\"\n",
        "print(risa)\n",
        "reir=4*risa\n",
        "print(reir)"
      ],
      "metadata": {
        "colab": {
          "base_uri": "https://localhost:8080/"
        },
        "id": "Xh9RP3GF3IiR",
        "outputId": "a75fde0e-5fbd-4870-a3a3-b4ccdd438b86"
      },
      "execution_count": null,
      "outputs": [
        {
          "output_type": "stream",
          "name": "stdout",
          "text": [
            "Hello, Python!\n",
            "Hello, world!\n",
            "<class 'float'>\n",
            "<class 'int'>\n",
            "2.6666666666666665\n",
            "7 10 17\n",
            "ja\n",
            "jajajaja\n"
          ]
        }
      ]
    },
    {
      "cell_type": "markdown",
      "source": [
        "#### String Operations (3:53)\n",
        "Los string son secuencias de caracteres y por ello tienen métodos aplicables que funcionan en listas o tuplas. Para acceder por medio del índice, debemos visualizar su representación por una matriz de números. Ejemplo 'yo' : [01]\n",
        "\n",
        "Por otro lado, tienen un segundo conjunto de métodos que solo funcionan en strings (upper, replace)\n"
      ],
      "metadata": {
        "id": "_jIk4-PvSFrh"
      }
    },
    {
      "cell_type": "code",
      "source": [
        "#Encontrar los números pares de la variable Numbers\n",
        "Numbers = \"0123456\"\n",
        "print(Numbers[::2])\n",
        "#Encontrar el índice del caracter '1'\n",
        "print(\"0123456\".find('1'))\n",
        "Letras=\"abcdefghijklmnopqrstuvwxyz\"\n",
        "print(Letras)\n",
        "#Cambiar caracteres de minúsculas a mayúsculas\n",
        "letrasMayu=Letras.upper()\n",
        "print(letrasMayu)\n",
        "#Obtener los caracteres cuyo índice es par\n",
        "print(Letras[::2])\n",
        "#Obtener los caracteres cuyo índice es múltiplo de 3\n",
        "print(Letras[::3])\n",
        "#Obtener la longitud de la variable Letras\n",
        "print(len(Letras))\n",
        "#Imprimir los primeros tres elementos de la variable Letras\n",
        "print(Letras[0:3])\n",
        "#Método para cambiar caracteres replace()\n",
        "texto_1=\"hola\"\n",
        "print(texto_1)\n",
        "cambio1=texto_1.replace(\"h\",\"H\")\n",
        "print(cambio1)\n",
        "#Método para encontrar determinados strings\n",
        "#La salida es el primer índice de la secuencia\n",
        "print(cambio1.find(\"la\"))"
      ],
      "metadata": {
        "colab": {
          "base_uri": "https://localhost:8080/"
        },
        "id": "QjutHaiVSGII",
        "outputId": "1248b24e-3251-4b35-f847-89b94aeb6db6"
      },
      "execution_count": null,
      "outputs": [
        {
          "output_type": "stream",
          "name": "stdout",
          "text": [
            "0246\n",
            "1\n",
            "abcdefghijklmnopqrstuvwxyz\n",
            "ABCDEFGHIJKLMNOPQRSTUVWXYZ\n",
            "acegikmoqsuwy\n",
            "adgjmpsvy\n",
            "26\n",
            "abc\n",
            "hola\n",
            "Hola\n",
            "2\n"
          ]
        }
      ]
    },
    {
      "cell_type": "markdown",
      "source": [
        "#### Review Questions"
      ],
      "metadata": {
        "id": "XI6JiFHnbc1K"
      }
    },
    {
      "cell_type": "code",
      "source": [
        "print(3+2*2)\n",
        "name='Lizz'\n",
        "print(name[0:2])\n",
        "var='01234567'\n",
        "print(var[::2])\n",
        "print('1'+'2')\n",
        "myvar='hello'\n",
        "myvar.upper()"
      ],
      "metadata": {
        "id": "DseGH9q0Th7J",
        "colab": {
          "base_uri": "https://localhost:8080/",
          "height": 105
        },
        "outputId": "50dc8f26-ebad-4669-a353-2bba94f7ca78"
      },
      "execution_count": null,
      "outputs": [
        {
          "output_type": "stream",
          "name": "stdout",
          "text": [
            "7\n",
            "Li\n",
            "0246\n",
            "12\n"
          ]
        },
        {
          "output_type": "execute_result",
          "data": {
            "text/plain": [
              "'HELLO'"
            ],
            "application/vnd.google.colaboratory.intrinsic+json": {
              "type": "string"
            }
          },
          "metadata": {},
          "execution_count": 5
        }
      ]
    },
    {
      "cell_type": "markdown",
      "source": [
        "## Módulo 2. Python Data Structures"
      ],
      "metadata": {
        "id": "LCXQkgZdp90C"
      }
    },
    {
      "cell_type": "markdown",
      "source": [
        "#### Lists and Tuples (8:46)\n",
        "Son tipos de datos compuestos y son estrucutras clave en Python.\n",
        "\n",
        "- Tuplas ( ). Secuencia ordenada, escrita dentro de un paréntesis y sus elementos están separados por comas. Puede contener datos de tipos diferentes, tales como strings, floats, interger, bool, pero el tipo de datos de este arreglo (tupla) será tuple. Son inmutables, por lo que no se pueden cambiar\n",
        "- Listas [ ]. También son secuencias ordenadas y se representan dentro de corchetes, su tipo de datos será siempre tipo list y pueden contener varios tipos de datos (bool, int, float, strings) y otras listas anidadas e incluso tuplas. Se indexa de forma convencional, al igual que la concatenación. Estas secuencia son mutables, por lo que se pueden cambiar\n",
        "\n",
        "Para entender la **anidación (nesting)** podemos pensarlo como una lista desplegable\n",
        "El **solapamiento (aliasing)** surge cuando dos o más variables se refieren a un mismo objeto, para evitarlo podemos clonar el contenido de una en otra, en lugar de asignarlo"
      ],
      "metadata": {
        "id": "0WWS60jZqFKe"
      }
    },
    {
      "cell_type": "code",
      "source": [
        "#------TUPLAS------\n",
        "#Comprobando el tipo de datos de una tupla que contiene a su vez datos del tipo string, float, int y bool\n",
        "tupla1=('disco',10,1.2,True)\n",
        "print(type(tupla1))\n",
        "#Se comprueba que conteniendo solo un tipo de datos dentro de una tupla, continua siendo del tipo tuple\n",
        "tupla2=(10,20,30,40)\n",
        "print(type(tupla2))\n",
        "#Indexando elementos en una tupla (acceder a gracias a su índice)\n",
        "print(tupla1[3])\n",
        "print(tupla1[-1]) #índice negativo, equivalente a la línea superior\n",
        "#Comprobando qué tipo de datos es un elemento que se extrae de un tuple\n",
        "tipoBool=tupla1[-1]\n",
        "print(type(tipoBool)) #Conserva el tipo de datos original del elemento\n",
        "#Concatenando o combinando tuplas\n",
        "tupla3=tupla1+tupla2\n",
        "print(tupla3)\n",
        "tupla4=tupla3+(\"final\",1)\n",
        "print(tupla4)\n",
        "#Indexación de varios elementos empleando el símbolo :\n",
        "len(tupla4) #se obtiene primero la longitud de la tupla\n",
        "print(tupla4[8:10]) #últimos dos elementos\n",
        "print(tupla4[0:2]) #primeros dos elementos\n",
        "#Debido a que las tuplas son imnutables, debemos crear una nueva para manipularla\n",
        "cuenta=(10,9,6,5,8,4,7,3,1,2)\n",
        "print(cuenta)\n",
        "cuentaOrdenada=sorted(cuenta) #se emplea sorted y crea una nueva tupla para ordenar la cuenta\n",
        "print(cuentaOrdenada)\n",
        "#Crear e indexar una tupla anidada\n",
        "tupla5=(1,2,(\"rock\",\"opera\"),(5,6),(\"hardcore\",(1,2,3))) #creación\n",
        "print(tupla5)\n",
        "print(tupla5[4]) #(\"hardcore\",(1,2,3))\n",
        "print(tupla5[4][1]) #(1,2,3)\n",
        "print(tupla5[4][1][2]) #3\n",
        "\n",
        "#------LISTAS------\n",
        "#Crear una lista con diferentes tipos de datos\n",
        "lista1=[\"esto es\",10.1,1982,[1,1],('A',2),False]\n",
        "print(lista1[4:6])\n",
        "print(type(lista1)) #Comprobar el tipo de dato que es una lista\n",
        "lista2=[1,2,3,4,5,6]\n",
        "print(lista2)\n",
        "print(type(lista2)) #También será siempre del tipo list\n",
        "#Indexar de forma convencional\n",
        "print(lista1[0]) #esto es\n",
        "print(lista1[4]) #('A',2)\n",
        "print(lista1[4][0]) #A\n",
        "#Concatenar\n",
        "lista3=lista1+lista2\n",
        "print(lista3)\n",
        "lista4=lista3+[7,\"final de la lista\"]\n",
        "print(lista4)\n",
        "#Ya que las listas son mutables, podemos cambiarlas\n",
        "L=[\"hola\",1997]\n",
        "print(L)\n",
        "#Con extend cada elemento adquiere un índice\n",
        "L.extend([\"HOLA\",1998]) #(método), [lista]\n",
        "print(L)\n",
        "#Con apprend, se añade un nuevo índice que anida todo el argumento\n",
        "L.append([\"Hola\",1999])\n",
        "print(L)\n",
        "#Indexar un elemento para cambiarlo\n",
        "A=[\"disco\",10,1.6]\n",
        "print(A)\n",
        "A[0]=\"ROCK\"\n",
        "print(A)\n",
        "#Eliminar un elemento dentro de una lista con del()\n",
        "del(A[0]) #Eliminamos \"ROCK\"\n",
        "print(A)\n",
        "\n",
        "#Podemos separar los elementos de un string (datos str, listas no)\n",
        "abcd=\"A B C D\"\n",
        "print(abcd)\n",
        "print(abcd.split()) #el separador (delimitador) es el espacio\n",
        "#o es posible definifir el delimitador\n",
        "ab=\"A-B-C-D\"\n",
        "print(ab)\n",
        "abGuion=ab.split(\"-\") #el delimitador es ahora el guion (-)\n",
        "print(abGuion)\n",
        "\n",
        "print(\"\")\n",
        "A=[\"B=A\",1]\n",
        "print(\"A:\",A)\n",
        "B=A\n",
        "print(\"B=A, B:\",B)\n",
        "B[0]=\"solapamiento\" #Se modifica el objeto de B\n",
        "print(\"B:\",B)\n",
        "print(\"A:\",A) #Con lo que también se modifica A\n",
        "#Para evitar el solapamiento, clonamos el contenido\n",
        "C=[\"D=C[:]\",2]\n",
        "print(\"C:\",C)\n",
        "D=C[:] #Se clona la lista de C en D\n",
        "print(\"D:\", D)\n",
        "D[0]=\"clonación\" #Se modifica D\n",
        "print(\"Al modificar una variable, el objeto de la otra ya no se afecta, \",end=\"\")\n",
        "print(\"pues ya no tienen la misma referencia\")\n",
        "print(\"C:\",C)\n",
        "print(\"D:\",D)\n",
        "\n",
        "print(\"\")\n",
        "print(\"help() con una variable en el argumento nos proprociona info. sobre el objeto\")\n",
        "\n",
        "print(\"\") #------Lists and Tuples (External resource) LAB------\n",
        "#Create a tuple  (0,1,2,3)  and assign it to variable A:\n",
        "A=(0,1,2,3)\n",
        "print(A)\n",
        "#Find the first two elements of tuple  A :\n",
        "print(A[0:2])\n",
        "#For the next few questions, you will need the following list:\n",
        "B=[\"a\",\"b\",\"c\"]\n",
        "#Find the first two elements of the list  B:\n",
        "print(B[0:2])\n",
        "#Change the first element of the list to an uppercase \"A\".\n",
        "B[0]=\"A\"\n",
        "print(B)\n",
        "#How do you access the last element of the following tuple: A=(0,1,2,3)\n",
        "print(A[3])\n",
        "print(A[-1])\n",
        "#Consider the list: B=[\"a\",\"b\",\"c\"]. What is the result of the following B[1:]?\n",
        "print(B[1:]) #B=[\"a\",\"b\",\"c\"] , a=0, b=1, c=2"
      ],
      "metadata": {
        "colab": {
          "base_uri": "https://localhost:8080/"
        },
        "id": "Nd-fLZ8RqBlK",
        "outputId": "6d5d55ff-d519-4234-f719-302af40011d0"
      },
      "execution_count": null,
      "outputs": [
        {
          "output_type": "stream",
          "name": "stdout",
          "text": [
            "<class 'tuple'>\n",
            "<class 'tuple'>\n",
            "True\n",
            "True\n",
            "<class 'bool'>\n",
            "('disco', 10, 1.2, True, 10, 20, 30, 40)\n",
            "('disco', 10, 1.2, True, 10, 20, 30, 40, 'final', 1)\n",
            "('final', 1)\n",
            "('disco', 10)\n",
            "(10, 9, 6, 5, 8, 4, 7, 3, 1, 2)\n",
            "[1, 2, 3, 4, 5, 6, 7, 8, 9, 10]\n",
            "(1, 2, ('rock', 'opera'), (5, 6), ('hardcore', (1, 2, 3)))\n",
            "('hardcore', (1, 2, 3))\n",
            "(1, 2, 3)\n",
            "3\n",
            "[('A', 2), False]\n",
            "<class 'list'>\n",
            "[1, 2, 3, 4, 5, 6]\n",
            "<class 'list'>\n",
            "esto es\n",
            "('A', 2)\n",
            "A\n",
            "['esto es', 10.1, 1982, [1, 1], ('A', 2), False, 1, 2, 3, 4, 5, 6]\n",
            "['esto es', 10.1, 1982, [1, 1], ('A', 2), False, 1, 2, 3, 4, 5, 6, 7, 'final de la lista']\n",
            "['hola', 1997]\n",
            "['hola', 1997, 'HOLA', 1998]\n",
            "['hola', 1997, 'HOLA', 1998, ['Hola', 1999]]\n",
            "['disco', 10, 1.6]\n",
            "['ROCK', 10, 1.6]\n",
            "[10, 1.6]\n",
            "A B C D\n",
            "['A', 'B', 'C', 'D']\n",
            "A-B-C-D\n",
            "['A', 'B', 'C', 'D']\n",
            "\n",
            "A: ['B=A', 1]\n",
            "B=A, B: ['B=A', 1]\n",
            "B: ['solapamiento', 1]\n",
            "A: ['solapamiento', 1]\n",
            "C: ['D=C[:]', 2]\n",
            "D: ['D=C[:]', 2]\n",
            "Al modificar una variable, el objeto de la otra ya no se afecta, pues ya no tienen la misma referencia\n",
            "C: ['D=C[:]', 2]\n",
            "D: ['clonación', 2]\n",
            "\n",
            "help() con una variable en el argumento nos proprociona info. sobre el objeto\n",
            "\n",
            "(0, 1, 2, 3)\n",
            "(0, 1)\n",
            "['a', 'b']\n",
            "['A', 'b', 'c']\n",
            "3\n",
            "3\n",
            "['b', 'c']\n"
          ]
        }
      ]
    },
    {
      "cell_type": "markdown",
      "source": [
        "#### Lab - Lists and Tuples"
      ],
      "metadata": {
        "id": "n55Kwql0MPz1"
      }
    },
    {
      "cell_type": "code",
      "source": [
        "#Quiz on Tuples\n",
        "# Consider the following tuple:. sample tuple\n",
        "genres_tuple = (\"pop\", \"rock\", \"soul\", \"hard rock\", \"soft rock\", \\\n",
        "                \"R&B\", \"progressive rock\", \"disco\")\n",
        "print(genres_tuple)\n",
        "#Find the length of the tuple, genres_tuple:\n",
        "print(len(genres_tuple))\n",
        "#Access the element, with respect to index 3:\n",
        "print(genres_tuple[3])\n",
        "#Use slicing to obtain indexes 3, 4 and 5:\n",
        "print(genres_tuple[3:6])\n",
        "#Find the first two elements of the tuple genres_tuple:\n",
        "print(genres_tuple[0:2])\n",
        "#Find the first index of \"disco\":\n",
        "print(genres_tuple.index(\"disco\")) #Se encuentra primero el índice del string \"disco\"\n",
        "print(genres_tuple[7][0]) #Primer índice de disco = d (0)\n",
        "#Generate a sorted List from the Tuple C_tuple=(-5, 1, -3):\n",
        "C_tuple=(-5, 1, -3)\n",
        "tuple_O=sorted(C_tuple)\n",
        "print(C_tuple)\n",
        "print(tuple_O)\n",
        "\n",
        "print(\"\") #Quiz on List\n",
        "#Create a list a_list, with the following elements 1, hello, [1,2,3] and True.\n",
        "a_list=[1,'hello',[1,2,3],True]\n",
        "print(a_list)\n",
        "#Find the value stored at index 1 of a_list.\n",
        "print(a_list[1])\n",
        "#Retrieve the elements stored at index 1, 2 and 3 of a_list.\n",
        "print(a_list[1:4])\n",
        "#Concatenate the following lists A = [1, 'a'] and B = [2, 1, 'd']:\n",
        "A = [1, 'a']\n",
        "B = [2, 1, 'd']\n",
        "print(\"A:\",A)\n",
        "print(\"B:\",B)\n",
        "print(\"A+B:\",A+B)\n",
        "print(\"Usando extend:\")\n",
        "A.extend(B)\n",
        "print(A)\n",
        "print(\"Usando append:\")\n",
        "A.append([2, 1, 'd'])\n",
        "print(A)"
      ],
      "metadata": {
        "colab": {
          "base_uri": "https://localhost:8080/"
        },
        "id": "E2N3TAcgMVT5",
        "outputId": "18cfe4c2-b839-4528-f3fd-0dac6429401c"
      },
      "execution_count": null,
      "outputs": [
        {
          "output_type": "stream",
          "name": "stdout",
          "text": [
            "('pop', 'rock', 'soul', 'hard rock', 'soft rock', 'R&B', 'progressive rock', 'disco')\n",
            "8\n",
            "hard rock\n",
            "('hard rock', 'soft rock', 'R&B')\n",
            "('pop', 'rock')\n",
            "7\n",
            "d\n",
            "(-5, 1, -3)\n",
            "[-5, -3, 1]\n",
            "\n",
            "[1, 'hello', [1, 2, 3], True]\n",
            "hello\n",
            "['hello', [1, 2, 3], True]\n",
            "A: [1, 'a']\n",
            "B: [2, 1, 'd']\n",
            "A+B: [1, 'a', 2, 1, 'd']\n",
            "Usando extend:\n",
            "[1, 'a', 2, 1, 'd']\n",
            "Usando append:\n",
            "[1, 'a', 2, 1, 'd', [2, 1, 'd']]\n"
          ]
        }
      ]
    },
    {
      "cell_type": "markdown",
      "source": [
        "#### Sets (5:12)\n",
        "Set { }. Son un tipo de colecciones, por lo que es posible introducir distintos tipos de datos. Se diferencian de las listas y tuplas (que también son colecciones) porque no son ordenados, lo que significa que no graba la posición del elemento. Asimismo, se caracterizan porque tienen elementos únicos, es decir uno mismo no se puede repetir en estos conjuntos (no se pueden duplicar) y se generan a partir de llaves"
      ],
      "metadata": {
        "id": "NNNkABveaQnL"
      }
    },
    {
      "cell_type": "code",
      "source": [
        "#Creación\n",
        "set1={'pop','rock','opera','pop','soul','pop'}\n",
        "print(set1) #No se muestran los elementos repetidos\n",
        "print(type(set1))\n",
        "#Operaciones\n",
        "lista=[\"hola\",1,2,\"hola\"]\n",
        "print(lista)\n",
        "setDeLista=set(lista) #type-casting, convertir una lista a set\n",
        "print(setDeLista)\n",
        "setDeLista.remove(\"hola\") #remover elementos de un set\n",
        "print(setDeLista)\n",
        "print(\"hola\" in setDeLista) #Verificar si existe determinado elemento en el set con in\n",
        "print(type(\"hola\" in setDeLista)) #El resultado es un valor bool\n",
        "\n",
        "print(\"\")\n",
        "print(\"El símbolo & encuentra la unión entre dos sets\")\n",
        "# Al usar & para concatenar dos sets, solo mantendrá los elementos que ambos tengan en común\n",
        "setA={'yo','sí','soy'}\n",
        "setB={'yo','no','soy'}\n",
        "print(\"Set A:\",setA, \"\\nSet B:\",setB)\n",
        "setC=setA&setB\n",
        "print(\"setA&setB:\",setC) #Solo se mantiene 'yo', 'soy' porque son los únicos elementos compartidos\n",
        "\n",
        "print(\"\")\n",
        "print(\"union() concatena todos los elementos de los sets en uno nuevo\")\n",
        "setD=setA.union(setB)\n",
        "print(setD) #Junta todos lo elementos pero no los repite\n",
        "Set2={'yo','soy'}\n",
        "setE=setA.union(Set2) #Set2 no aporta información nueva a set E, por lo que se encapsula\n",
        "print(setE)\n",
        "print(\".issubset() nos permite verificar si un set está encapsulado en el set argumento\")\n",
        "print(Set2.issubset(setA)) #La respuesta se da a través de un valor bool\n",
        "\n",
        "#------Sets (External resource) LAB------\n",
        "print(setA.issuperset(Set2)) #Busca si set A es un super set de set2 (encapsula al segundo)\n",
        "print(setA.difference(setB)) #Encuentra lo que diferencia el setA del B\n",
        "print(setA.intersection(setB)) #)Encuentra la intersección o que es igual en el setA respecto el B\n",
        "\n",
        "#-------Quiz on Sets-------\n",
        "#Cast the following list to a set:\n",
        "['A','B','C','A','B','C']\n",
        "print(set(['A','B','C','A','B','C']))\n",
        "#Add the string 'D' to the set S.\n",
        "S={'A','B','C'}\n",
        "print(S)\n",
        "S.add('D')\n",
        "print(S)\n",
        "#Find the intersection of set A and B.\n",
        "A={1,2,3,4,5}\n",
        "B={1,3,9, 12}\n",
        "print(A.intersection(B))\n",
        "#What is the result of the following lines of code:\n",
        "S={'A','B','C'}\n",
        "U={'A','Z','C'}\n",
        "U.union(S)\n",
        "#What is the intersection of set S and U?\n",
        "S={'A','B','C'}\n",
        "U={'A','Z','C'}\n",
        "print(S.intersection(U))"
      ],
      "metadata": {
        "colab": {
          "base_uri": "https://localhost:8080/"
        },
        "id": "t0D4fj0Uaf9Q",
        "outputId": "6f1aa375-28f2-40a2-be72-f5f28b2a1e86"
      },
      "execution_count": null,
      "outputs": [
        {
          "output_type": "stream",
          "name": "stdout",
          "text": [
            "{'soul', 'pop', 'opera', 'rock'}\n",
            "<class 'set'>\n",
            "['hola', 1, 2, 'hola']\n",
            "{1, 2, 'hola'}\n",
            "{1, 2}\n",
            "False\n",
            "<class 'bool'>\n",
            "\n",
            "El símbolo & encuentra la unión entre dos sets\n",
            "Set A: {'sí', 'soy', 'yo'} \n",
            "Set B: {'no', 'soy', 'yo'}\n",
            "setA&setB: {'soy', 'yo'}\n",
            "\n",
            "union() concatena todos los elementos de los sets en uno nuevo\n",
            "{'no', 'soy', 'yo', 'sí'}\n",
            "{'soy', 'yo', 'sí'}\n",
            ".issubset() nos permite verificar si un set está encapsulado en el set argumento\n",
            "True\n",
            "True\n",
            "{'sí'}\n",
            "{'soy', 'yo'}\n",
            "{'C', 'B', 'A'}\n",
            "{'C', 'B', 'A'}\n",
            "{'C', 'B', 'A', 'D'}\n",
            "{1, 3}\n",
            "{'C', 'A'}\n"
          ]
        }
      ]
    },
    {
      "cell_type": "markdown",
      "source": [],
      "metadata": {
        "id": "fg8XUiW7Ou-q"
      }
    },
    {
      "cell_type": "markdown",
      "source": [
        "#### Lab - Sets\n",
        "Debido a que hubo problemas al abrir el laboratorio, confundí el cuestionario (Quiz on Sets) de la sección anterior con el de esta. Se realiza la correción en esta evidencia"
      ],
      "metadata": {
        "id": "QrHqwnfSltUG"
      }
    },
    {
      "cell_type": "code",
      "source": [
        "#Convert the list ['rap','house','electronic music', 'rap'] to a set:\n",
        "lista=['rap','house','electronic music', 'rap']\n",
        "print(lista)\n",
        "set1=set(lista)\n",
        "print(set1)\n",
        "alternativaSet=set(['rap','house','electronic music','rap'])\n",
        "print(alternativaSet)\n",
        "#Consider the list A = [1, 2, 2, 1] and set B = set([1, 2, 2, 1]), does sum(A) == sum(B)?\n",
        "A = [1, 2, 2, 1]\n",
        "B = set([1, 2, 2, 1])\n",
        "print(\"A:\",A,\"\\nB:\",B)\n",
        "Asuma=sum(A)\n",
        "Bsuma=sum(B)\n",
        "print(\"Suma de A == suma de B\", Asuma==Bsuma)\n",
        "#Create a new set album_set3 that is the union of album_set1 and album_set2:\n",
        "album_set1 = set([\"Thriller\", 'AC/DC', 'Back in Black'])\n",
        "album_set2 = set([ \"AC/DC\", \"Back in Black\", \"The Dark Side of the Moon\"])\n",
        "album_set3=album_set1.union(album_set2 )\n",
        "print(album_set3)\n",
        "#Find out if album_set1 is a subset of album_set3:\n",
        "print(album_set1.issubset(album_set3))"
      ],
      "metadata": {
        "colab": {
          "base_uri": "https://localhost:8080/"
        },
        "id": "nWlMTYeYlwyY",
        "outputId": "be70ca16-3c19-4682-b98c-2cb8516e251c"
      },
      "execution_count": null,
      "outputs": [
        {
          "output_type": "stream",
          "name": "stdout",
          "text": [
            "['rap', 'house', 'electronic music', 'rap']\n",
            "{'house', 'electronic music', 'rap'}\n",
            "{'house', 'electronic music', 'rap'}\n",
            "A: [1, 2, 2, 1] \n",
            "B: {1, 2}\n",
            "Suma de A == suma de B False\n",
            "{'AC/DC', 'Back in Black', 'The Dark Side of the Moon', 'Thriller'}\n",
            "True\n"
          ]
        }
      ]
    },
    {
      "cell_type": "markdown",
      "source": [
        "#### Dictionaries (2:24)\n",
        "Diccionarios { }. Son tipo de colección (arreglos), se crean empleando llaves (como una direccion) y poseen:\n",
        "- Llaves (Keys) que son equivalentes a los índices en una lista. Son inmutables y únicas\n",
        "- Valores. Pueden ser inmutables/mutables/duplicados\n",
        "Cada valor y llave debe separarse con coma"
      ],
      "metadata": {
        "id": "xbjfFlO6OyZn"
      }
    },
    {
      "cell_type": "code",
      "source": [
        "#Crear un diccionario\n",
        "dicPelis={'Thriller':1982, 'Rumors':1977, 'Afflicted':2019}\n",
        "print(dicPelis)\n",
        "print(type(dicPelis)) #Comprobar el tipo de datos que es un diccionario\n",
        "#Indexar\n",
        "print(dicPelis['Afflicted']) #Nos arroja el valor, en este caso , el año\n",
        "#Añadir\n",
        "dicPelis['Martys']=2005 #Sintaxis igual al indexar, pero con elementos nuevos\n",
        "print(dicPelis)\n",
        "#Eliminar\n",
        "del(dicPelis['Thriller'])\n",
        "print(dicPelis) #Se elimina la key y su valor\n",
        "#Verificar si esta determinada película\n",
        "print('Martys' in dicPelis) #Responde a través de un dato tipo bool, caso verdadero\n",
        "print('Winnie the Pooh' in dicPelis) #caso falso\n",
        "#Pedir todas las keys (llaves) dentro del diccionario\n",
        "llavesPelis=dicPelis.keys()\n",
        "print(llavesPelis)\n",
        "print(type(llavesPelis)) #Comprobar el tipo de dato que son las llaves de un diccionario\n",
        "#Pedir todos los valores dentro del diccionario\n",
        "añosPelis=dicPelis.values()\n",
        "print(añosPelis)\n",
        "print(type(añosPelis)) #Comprobar el tipo de dato que son los valores de un diccionario\n",
        "\n",
        "print(\"\") #------Dictionaries (External resource) LAB------\n",
        "#You will need the dictionary D:\n",
        "D={'a':0,'b':1,'c':2}\n",
        "#Find the value for the key 'a':\n",
        "print(D['a'])\n",
        "#Find the keys of the dictionary D:\n",
        "print(D.keys())\n",
        "#Consider the following dictionary:\n",
        "D = {'a':0,'b':1,'c':2}\n",
        "print(D)\n",
        "#What is the result of the following: D.values()?\n",
        "print(D.values())\n",
        "#What is the output of the following D['b']?\n",
        "print(D['b'])"
      ],
      "metadata": {
        "colab": {
          "base_uri": "https://localhost:8080/"
        },
        "id": "FgAouWNBPmj6",
        "outputId": "f6bbfc9b-bc68-4de3-a5e5-cbdbc3ffd522"
      },
      "execution_count": null,
      "outputs": [
        {
          "output_type": "stream",
          "name": "stdout",
          "text": [
            "{'Thriller': 1982, 'Rumors': 1977, 'Afflicted': 2019}\n",
            "<class 'dict'>\n",
            "2019\n",
            "{'Thriller': 1982, 'Rumors': 1977, 'Afflicted': 2019, 'Martys': 2005}\n",
            "{'Rumors': 1977, 'Afflicted': 2019, 'Martys': 2005}\n",
            "True\n",
            "False\n",
            "dict_keys(['Rumors', 'Afflicted', 'Martys'])\n",
            "<class 'dict_keys'>\n",
            "dict_values([1977, 2019, 2005])\n",
            "<class 'dict_values'>\n",
            "\n",
            "0\n",
            "dict_keys(['a', 'b', 'c'])\n",
            "{'a': 0, 'b': 1, 'c': 2}\n",
            "dict_values([0, 1, 2])\n",
            "1\n"
          ]
        }
      ]
    },
    {
      "cell_type": "markdown",
      "source": [
        "#### Lab - Dictionaries"
      ],
      "metadata": {
        "id": "7Jpd0LR9TXTw"
      }
    },
    {
      "cell_type": "code",
      "source": [
        "#Quiz on Dictionaries\n",
        "#You will need this dictionary for the next two questions:\n",
        "soundtrack_dic = {\"The Bodyguard\":\"1992\", \"Saturday Night Fever\":\"1977\"}\n",
        "print(soundtrack_dic )\n",
        "#a) In the dictionary soundtrack_dic what are the keys ?\n",
        "print(soundtrack_dic.keys())\n",
        "#b) In the dictionary soundtrack_dic what are the values ?\n",
        "print(soundtrack_dic.values())\n",
        "#You will need this dictionary for the following questions:\n",
        "#The Albums Back in Black, The Bodyguard and Thriller have the following music recording sales in millions 50, 50 and 65 respectively:\n",
        "#a) Create a dictionary album_sales_dict where the keys are the album name and the sales in millions are the values.\n",
        "album_sales_dict={'Back in Black':50, 'The Bodyguard':50, 'Thriller':65}\n",
        "print(album_sales_dict)\n",
        "#b) Use the dictionary to find the total sales of Thriller:\n",
        "print(album_sales_dict['Thriller'])\n",
        "#c) Find the names of the albums from the dictionary using the method keys()\n",
        "print(album_sales_dict.keys())\n",
        "#d) Find the values of the recording sales from the dictionary using the method values\n",
        "print(album_sales_dict.values())"
      ],
      "metadata": {
        "colab": {
          "base_uri": "https://localhost:8080/"
        },
        "id": "_Y1CACQXTaui",
        "outputId": "520da282-8a7b-49fe-c3d5-425295193be7"
      },
      "execution_count": null,
      "outputs": [
        {
          "output_type": "stream",
          "name": "stdout",
          "text": [
            "{'The Bodyguard': '1992', 'Saturday Night Fever': '1977'}\n",
            "dict_keys(['The Bodyguard', 'Saturday Night Fever'])\n",
            "dict_values(['1992', '1977'])\n",
            "{'Back in Black': 50, 'The Bodyguard': 50, 'Thriller': 65}\n",
            "65\n",
            "dict_keys(['Back in Black', 'The Bodyguard', 'Thriller'])\n",
            "dict_values([50, 50, 65])\n"
          ]
        }
      ]
    },
    {
      "cell_type": "markdown",
      "source": [
        "#### Review Questions"
      ],
      "metadata": {
        "id": "5QKoEpuvW0Ow"
      }
    },
    {
      "cell_type": "code",
      "source": [
        "#What is the syntax used to obtain the first element of the tuple:\n",
        "A = ('a','b','c')\n",
        "A[0]\n",
        "#After applying the following method, L.append(['a','b']), the following list will only be one element longer.\n",
        "#True\n",
        "#How many duplicate elements can you have in a set?\n",
        "#0. You can only have one unique element in a set.\n",
        "#Consider the following Python dictionary:\n",
        "Dict={\"A\":1,\"B\":\"2\",\"C\":[3,3,3],\"D\":(4,4,4),'E':5,'F':6}\n",
        "print(Dict)\n",
        "#What is the result of the following operation: Dict[\"D\"]?\n",
        "print(Dict[\"D\"])\n",
        "#What is an important difference between lists and tuples?\n",
        "#Lists are mutable, tuples are not."
      ],
      "metadata": {
        "colab": {
          "base_uri": "https://localhost:8080/"
        },
        "id": "mKyg_7FJV6yc",
        "outputId": "71b6c6b1-4230-4269-e931-5dc2f700aeff"
      },
      "execution_count": null,
      "outputs": [
        {
          "output_type": "stream",
          "name": "stdout",
          "text": [
            "{'A': 1, 'B': '2', 'C': [3, 3, 3], 'D': (4, 4, 4), 'E': 5, 'F': 6}\n",
            "(4, 4, 4)\n"
          ]
        }
      ]
    },
    {
      "cell_type": "markdown",
      "source": [
        "## Módulo 3. Python Programming Fundamentals"
      ],
      "metadata": {
        "id": "HWCKfCRIW2u7"
      }
    },
    {
      "cell_type": "markdown",
      "source": [
        "#### Conditions and Branching (10:14)\n",
        "- Las operaciones de comparación utilizan algunos valores u operandos y con base en una condición, producen una respuesta booleana **(==, >, >=, <, <=, !=)**\n",
        "- Las derivaciones (branching) nos permite ejecutar diferentes declaraciones (líneas de código) para distintas entradas **(ciclos if, else, elseif )**\n",
        "- Los operadores lógicos toman valores booleanos (True/False) y producen otros distintos **(not, or, and)**"
      ],
      "metadata": {
        "id": "lGerqDQgW6Qz"
      }
    },
    {
      "cell_type": "code",
      "source": [
        "from re import M\n",
        "#Comparaciones\n",
        "y=5\n",
        "x=5\n",
        "print(\"x=5 == y=5\",x==y)\n",
        "y=6\n",
        "print(\"x=5 == y=6\",x==y) #Igual a\n",
        "print(\"x=5 > y=6\",x>y) #Mayor que\n",
        "print(\"x=5 >= y=6\",x>=y) #Mayor igual que\n",
        "print(\"x=5 < y=6\",x<y) #Menor que\n",
        "print(\"x=5 <= y=6\",x<=y) #Menor igual que\n",
        "print(\"x=5 != y=6\",x!=y) #Diferente de\n",
        "#Branching (if, elif, else)\n",
        "print(\"Entrada a establecimiento\\nedad>=18:bar, edad==15:-restaurante solo 15-, edad<15:heladería\")\n",
        "edad=18\n",
        "if(edad>=18):\n",
        "  print(\"Puedes entrar al bar porque tienes\",edad,\"años o más\")\n",
        "elif(edad==15):\n",
        "  print(\"Puedes entrar al -restaurante solo 15- porque tienes\",edad,\"años\")\n",
        "else:\n",
        "  print(\"Puedes entrar a la heladería porque solo tienes\",edad,\"años o menos\")\n",
        "print(\"Esta línea de código es ajena a los casos condicionales anteriores\", end=\"\")\n",
        "print(\" debido a la indentación\")\n",
        "#Operadores lógicos\n",
        "#and\n",
        "print(\"Pensión adulto mayor\")\n",
        "adultoEdad=60\n",
        "nacionalidad=\"mexicana\"\n",
        "if(adultoEdad>=65 and nacionalidad==\"mexicana\"):\n",
        "  print(\"Debido a que tienes +64 años y eres de México, tienes acceso a la pensión\")\n",
        "else:\n",
        "  print(\"Debido a no que tienes +64 años o no eres de México, NO tienes acceso a la pensión\")\n",
        "#or\n",
        "print(\"Trámite, necesitas INE o pasaporte para realizarlo\")\n",
        "INE=\"sí\"\n",
        "pasaporte=\"no\"\n",
        "if(INE==\"sí\" or pasaporte==\"sí\"):\n",
        "  print(\"Debido a que tienes INE o pasaporte, puedes realizarlo\")\n",
        "else:\n",
        "  print(\"Debido a que no tienes INE ni pasaporte, NO puedes realizarlo\")\n",
        "#not\n",
        "decir=False\n",
        "print(\"Todo lo que digas será al revés\",decir)\n",
        "print(\"Si es al revés, será:\",not(decir))\n",
        "\n",
        "#-------Conditions and Branching (External resource) LAB-------\n",
        "print(\"\")\n",
        "#Find the value of i that produces a True:\n",
        "i=100 #Cualquier valor disinto de cero 0\n",
        "print(i)\n",
        "print(\"i!=0\",i!=0)\n",
        "#Find the value of x that prints the statement \"this is a\":\n",
        "x = 'a'\n",
        "print(x)\n",
        "if(x=='a'):\n",
        "    print(\"this is a\")\n",
        "else:\n",
        "    print(\"this is  not a\")\n",
        "#Find the value of y that produces a True statement:\n",
        "y=9 #Cualquier valor menor a 10\n",
        "x=1\n",
        "print(\"y:\",y,\"x:\",x)\n",
        "print(\"x>0 and y<10\",x>0 and y<10)\n"
      ],
      "metadata": {
        "colab": {
          "base_uri": "https://localhost:8080/"
        },
        "id": "8fiLCzc3W9M0",
        "outputId": "a2a1902c-ab00-4990-89a3-5f078b2e2b43"
      },
      "execution_count": null,
      "outputs": [
        {
          "output_type": "stream",
          "name": "stdout",
          "text": [
            "x=5 == y=5 True\n",
            "x=5 == y=6 False\n",
            "x=5 > y=6 False\n",
            "x=5 >= y=6 False\n",
            "x=5 < y=6 True\n",
            "x=5 <= y=6 True\n",
            "x=5 != y=6 True\n",
            "Entrada a establecimiento\n",
            "edad>=18:bar, edad==15:-restaurante solo 15-, edad<15:heladería\n",
            "Puedes entrar al bar porque tienes 18 años o más\n",
            "Esta línea de código es ajena a los casos condicionales anteriores debido a la indentación\n",
            "Pensión adulto mayor\n",
            "Debido a no que tienes +64 años o no eres de México, NO tienes acceso a la pensión\n",
            "Trámite, necesitas INE o pasaporte para realizarlo\n",
            "Debido a que tienes INE o pasaporte, puedes realizarlo\n",
            "Todo lo que digas será al revés False\n",
            "Si es al revés, será: True\n",
            "\n",
            "100\n",
            "i!=0 True\n",
            "a\n",
            "this is a\n",
            "y: 9 x: 1\n",
            "x>0 and y<10 True\n"
          ]
        }
      ]
    },
    {
      "cell_type": "markdown",
      "source": [
        "#### Lab - Conditions and Branching"
      ],
      "metadata": {
        "id": "tyMDo8i2l5aJ"
      }
    },
    {
      "cell_type": "code",
      "source": [
        "#Write an if statement to determine if an album had a rating greater than 8. Test it using the rating for the album “Back in Black” that had a rating of 8.5. If the statement is true print \"This album is Amazing!\"\n",
        "album=\"Back in Black\"\n",
        "rating=8.5\n",
        "if(rating>8):\n",
        "    print(\"This album is Amazing!\",album)\n",
        "#Write an if-else statement that performs the following. If the rating is larger then eight print “this album is amazing”. If the rating is less than or equal to 8 print “this album is ok”.\n",
        "if(rating>8):\n",
        "    print(\"This album is Amazing!\",album)\n",
        "elif(rating<=8):\n",
        "    print(\"this album is ok\",album)\n",
        "#Write an if statement to determine if an album came out before 1980 or in the years: 1991 or 1993. If the condition is true print out the year the album came out.\n",
        "año=1970\n",
        "if(año<1980 or año==1991 or año==1993):\n",
        "    print(\"Antes de 1980 o los años 1991/1993, año:\",año)"
      ],
      "metadata": {
        "colab": {
          "base_uri": "https://localhost:8080/"
        },
        "id": "2-ybjI0ck9L_",
        "outputId": "12d32297-eefd-40b8-f059-6a6072fa9e42"
      },
      "execution_count": null,
      "outputs": [
        {
          "output_type": "stream",
          "name": "stdout",
          "text": [
            "This album is Amazing! Back in Black\n",
            "This album is Amazing! Back in Black\n",
            "Antes de 1980 o los años 1991/1993, año: 1970\n"
          ]
        }
      ]
    },
    {
      "cell_type": "markdown",
      "source": [
        "#### Loops (6:40)\n",
        "- Bucle for. Pueden utilizarse listas o tuplas y ecuta una tarea una y otra vez, hasta llegar a un valor determinado\n",
        "-Bucle while. En lugar de ejecutar un código cierto número de veces, lo hace mientras se cumpla cierta condición, cuando deje de ser verdadera, se detendrá"
      ],
      "metadata": {
        "id": "fhm89g1dyCmQ"
      }
    },
    {
      "cell_type": "code",
      "source": [
        "#FOR\n",
        "cuadros=['rojo','azul','verde','negro']\n",
        "print(cuadros)\n",
        "for i in range(0,4):#range genera una secuencia ordenada\n",
        "  cuadros[i]='blanco' #se cambian los cuadros de colores por blancos\n",
        "  print(cuadros)\n",
        "#sin crear un rango\n",
        "for i,cuad in enumerate(cuadros): #enumerate es una función para iterar datos\n",
        "  print(cuad) #recorre cada elemento en la lista,\n",
        "  print(i) #junto de sus índices\n",
        "\n",
        "#WHILE\n",
        "print(\"\")\n",
        "colores=['azul', 'azul', 'azul', 'rojo', 'azul', 'negro']\n",
        "print(colores)\n",
        "listaColores=[]\n",
        "j=0\n",
        "print(colores[j]=='azul')\n",
        "while (colores[j]=='azul'): #Suma en una lista los azules hasta que alguno deje de serlo\n",
        "  print(\"Elemento color azul\")\n",
        "  listaColores.append(colores[j])\n",
        "  print(listaColores) #El total es la cantidad de azules sin interrupción\n",
        "  j+=1 #j=j+1\n",
        "  e=6\n",
        "print(\"\")\n",
        "while e>2:\n",
        "    print(\",e es mayor a 2, e= \" +str(e))\n",
        "    listaColores.append(e)\n",
        "    print(\"Valores que ha tenido e:\",listaColores)\n",
        "    e-=1 #e=e-1\n",
        "\n",
        "#------Loops (External resource) LAB------\n",
        "#Use loops to print out the elements in the list A:\n",
        "A=[3,4,5]\n",
        "for j in A:\n",
        "    print(j)\n",
        "#Find the value of  x  that will print out the sequence  1,2,..,10 :\n",
        "x=11\n",
        "y=1\n",
        "while(y != x):\n",
        "    print(y)\n",
        "    y=y+1\n",
        "#What is the output of the following lines of code:\n",
        "x=3\n",
        "y=1\n",
        "while(y!=x):\n",
        "  print(y)\n",
        "  y=y+1\n"
      ],
      "metadata": {
        "colab": {
          "base_uri": "https://localhost:8080/"
        },
        "id": "icofnq7-yfhp",
        "outputId": "7cac092a-0201-438f-8632-401a9998dea6"
      },
      "execution_count": null,
      "outputs": [
        {
          "output_type": "stream",
          "name": "stdout",
          "text": [
            "['rojo', 'azul', 'verde', 'negro']\n",
            "['blanco', 'azul', 'verde', 'negro']\n",
            "['blanco', 'blanco', 'verde', 'negro']\n",
            "['blanco', 'blanco', 'blanco', 'negro']\n",
            "['blanco', 'blanco', 'blanco', 'blanco']\n",
            "blanco\n",
            "0\n",
            "blanco\n",
            "1\n",
            "blanco\n",
            "2\n",
            "blanco\n",
            "3\n",
            "\n",
            "['azul', 'azul', 'azul', 'rojo', 'azul', 'negro']\n",
            "True\n",
            "Elemento color azul\n",
            "['azul']\n",
            "Elemento color azul\n",
            "['azul', 'azul']\n",
            "Elemento color azul\n",
            "['azul', 'azul', 'azul']\n",
            "\n",
            ",e es mayor a 2, e= 6\n",
            "Valores que ha tenido e: ['azul', 'azul', 'azul', 6]\n",
            ",e es mayor a 2, e= 5\n",
            "Valores que ha tenido e: ['azul', 'azul', 'azul', 6, 5]\n",
            ",e es mayor a 2, e= 4\n",
            "Valores que ha tenido e: ['azul', 'azul', 'azul', 6, 5, 4]\n",
            ",e es mayor a 2, e= 3\n",
            "Valores que ha tenido e: ['azul', 'azul', 'azul', 6, 5, 4, 3]\n",
            "3\n",
            "4\n",
            "5\n",
            "1\n",
            "2\n",
            "3\n",
            "4\n",
            "5\n",
            "6\n",
            "7\n",
            "8\n",
            "9\n",
            "10\n",
            "1\n",
            "2\n"
          ]
        }
      ]
    },
    {
      "cell_type": "markdown",
      "source": [
        "#### Lab - Loops"
      ],
      "metadata": {
        "id": "XXgaNUkM6V3A"
      }
    },
    {
      "cell_type": "code",
      "source": [
        "#Quiz on Loops\n",
        "#Write a for loop the prints out all the element between -5 and 5 using the range function.\n",
        "for i in range(-4,5):\n",
        "    print(i)\n",
        "#Print the elements of the following list: Genres=[ 'rock', 'R&B', 'Soundtrack', 'R&B', 'soul', 'pop'] Make sure you follow Python conventions.\n",
        "Genres=[ 'rock', 'R&B', 'Soundtrack', 'R&B', 'soul', 'pop']\n",
        "n=len(Genres)\n",
        "for j in range(n):\n",
        "    print(Genres[j])\n",
        "#Write a for loop that prints out the following list: squares=['red', 'yellow', 'green', 'purple', 'blue']\n",
        "squares=['red', 'yellow', 'green', 'purple', 'blue']\n",
        "for square in squares:\n",
        "    print(square)\n",
        "#Write a while loop to display the values of the Rating of an album playlist stored in the list PlayListRatings. If the score is less than 6, exit the loop. The list PlayListRatings is given by: PlayListRatings = [10, 9.5, 10, 8, 7.5, 5, 10, 10]\n",
        "j=0\n",
        "PlayListRatings = [10, 9.5, 10, 8, 7.5, 5, 10, 10]\n",
        "while (PlayListRatings[j]>5):\n",
        "    print(PlayListRatings[j])\n",
        "    j=j+1\n",
        "#Write a while loop to copy the strings 'orange' of the list squares to the list new_squares. Stop and exit the loop if the value on the list is not 'orange':\n",
        "squares = ['orange', 'orange', 'purple', 'blue ', 'orange']\n",
        "new_squares = []\n",
        "i=0\n",
        "while (squares[i]=='orange'):\n",
        "    new_squares.append(squares[i])\n",
        "    print(new_squares)\n",
        "    i=i+1\n"
      ],
      "metadata": {
        "colab": {
          "base_uri": "https://localhost:8080/"
        },
        "id": "4Spl1orA6aWs",
        "outputId": "d4ae7b27-2a97-4399-a917-2e6a59a28ab4"
      },
      "execution_count": null,
      "outputs": [
        {
          "output_type": "stream",
          "name": "stdout",
          "text": [
            "-4\n",
            "-3\n",
            "-2\n",
            "-1\n",
            "0\n",
            "1\n",
            "2\n",
            "3\n",
            "4\n",
            "rock\n",
            "R&B\n",
            "Soundtrack\n",
            "R&B\n",
            "soul\n",
            "pop\n",
            "red\n",
            "yellow\n",
            "green\n",
            "purple\n",
            "blue\n",
            "10\n",
            "9.5\n",
            "10\n",
            "8\n",
            "7.5\n",
            "['orange']\n",
            "['orange', 'orange']\n"
          ]
        }
      ]
    },
    {
      "cell_type": "markdown",
      "source": [
        "#### Functions (13:28)\n",
        "Las funciones son código que podemos reutilizar. Python tiene sus propias funciones, pero podemos crear las nuestras\n",
        "- Una función puede tener múltiples parámetros\n",
        "- No pueden tener cuerpo vacío, podemos utilizar la palabra pass como equivalente\n",
        "- Pueden contener bucles\n",
        "- Su documentación suele ir debajo de la declaración de la función, dentro de comillas triples \"\"\" documentación \"\"\"\n",
        "- Con el comando help(nombreFunción) podemos acceder a la documentación de una función\n",
        "\n",
        "Algunas funciones en python:\n",
        "- len(). Donde a partir de la entraad (secuencia, string, lista) se obtiene (salida) su longitud\n",
        "- sum(). Entrega la suma total de todos los elementos que se obtengan en su argumento\n",
        "- sorted(). Organiza progresivamente los elementos en el arreglo y la lista (o arreglo) organizada se guarda en una nueva variable\n",
        "Para la última función, tenemos también el método .sort() el cual reliza la misma computación, pero en lugar de crear una variable nueva, modifica la original, pues se entrega dicha variable para mandar llamar al método variable.sort()\n",
        "\n",
        "Scope. El alcance de una variable es la parte del programa donde dicha variable es accesible\n",
        "- Variable global. Definida fuera de cualquier función (o dentro si se usa la palabra reservada 'global' para definirla) y puede accederse a ella desde cualquier parte, una vez definida\n",
        "- Variable local. Solo existen en el alcance de una función y puedentener el mismo nombre que las gloables sin conflicto"
      ],
      "metadata": {
        "id": "WWUPLzQEIJ8t"
      }
    },
    {
      "cell_type": "code",
      "source": [
        "#Construyendo funciones\n",
        "def sumaUno(entrada):\n",
        "  \"\"\"Suma uno a la entrada\"\"\"\n",
        "  print(\"Su entrada fue de:\",entrada)\n",
        "  return entrada+1\n",
        "print(sumaUno(5))\n",
        "help(sumaUno) #Con el comando help podemos acceder a la documentación de una función\n",
        "#Función que no hace nada. Se usa pass para no tener un cuerpo de la función vacío\n",
        "def noTrabaja():\n",
        "  pass\n",
        "#Con bucles dentro\n",
        "def imprimeSecuenciaOrdenada(secuencia):\n",
        "  for i,s in enumerate(secuencia):\n",
        "    print(\"Valor original:\",s)\n",
        "  secuencia.sort()\n",
        "  print(\"Secuenciaordenada:\")\n",
        "  return secuencia\n",
        "valores=[10,8,6,7,9]\n",
        "imprimeSecuenciaOrdenada(valores)\n",
        "#Colectando argumentos\n",
        "def nombres(*names):\n",
        "  for nom in names:\n",
        "    print(nom)\n",
        "prueba1=['A','B','C']\n",
        "nombres(prueba1)\n",
        "prueba2=['A','B']\n",
        "nombres(prueba2)\n",
        "#Comprobando propiedades de variables locales y globales\n",
        "def afflicted():\n",
        "  fecha=2017\n",
        "  return fecha\n",
        "fecha=2022 #Variable global\n",
        "print(fecha) #Variable global\n",
        "print(afflicted()) #Se manda llamar la función y su variable local\n",
        "#Mandar llamar variables globales en una función\n",
        "def martyrs(y):\n",
        "  print(rating)\n",
        "  return rating+y\n",
        "rating=9\n",
        "print(martyrs(1)) #La función toma rating=9 y le suma 1\n",
        "print(rating) #Se imprime la variable global\n",
        "#Crear una variable global dentro de una función\n",
        "def pinkFloyd():\n",
        "  global ventas\n",
        "  ventas='45 millones'\n",
        "  return ventas\n",
        "print(pinkFloyd()) #Mandamos llamar la función\n",
        "print(ventas) #Mandamos llamar la variable global creada en la función\n",
        "\n",
        "print(\"\")\n",
        "#------Functions (External resource) LAB------\n",
        "#Complete the function  f  so that it returns the product of a and b. Use the next cell to test the function.\n",
        "def f(a,b):\n",
        "    #c=a*b\n",
        "    return a*b #return c\n",
        "#Test the function using the next cell:\n",
        "a=4\n",
        "b=2\n",
        "\n",
        "if a*b==f(a,b):\n",
        "    print(\"Correct.\")\n",
        "else:\n",
        "    print(\"Incorrect.\")\n",
        "#Complete the function g such that the input c is a list of integers and the output is the sum of all the elements in the list.\n",
        "def g(c):\n",
        "    suma=sum(c)\n",
        "    return suma\n",
        "#Test the function using the next cell:\n",
        "c=[1,2,3,4,5]\n",
        "\n",
        "if sum(c)==g(c):\n",
        "    print(\"Correct.\")\n",
        "else:\n",
        "    print(\"Incorrect.\")\n",
        "#What is the value of c after the following block of code is run ?\n",
        "a=1\n",
        "def add(b):\n",
        "  return a+b\n",
        "c=add(10)\n",
        "print(c)\n",
        "#What is the value of c after the following block of code is run with proper numerical input?\n",
        "def f(*x):\n",
        "  return sum(x)\n",
        "print(f(1,5,6,9))\n"
      ],
      "metadata": {
        "colab": {
          "base_uri": "https://localhost:8080/"
        },
        "id": "b7l4LFxSI3XF",
        "outputId": "5bc07b49-77db-4b12-a3e2-47b1263e9649"
      },
      "execution_count": null,
      "outputs": [
        {
          "output_type": "stream",
          "name": "stdout",
          "text": [
            "Su entrada fue de: 5\n",
            "6\n",
            "Help on function sumaUno in module __main__:\n",
            "\n",
            "sumaUno(entrada)\n",
            "    Suma uno a la entrada\n",
            "\n",
            "Valor original: 10\n",
            "Valor original: 8\n",
            "Valor original: 6\n",
            "Valor original: 7\n",
            "Valor original: 9\n",
            "Secuenciaordenada:\n",
            "['A', 'B', 'C']\n",
            "['A', 'B']\n",
            "2022\n",
            "2017\n",
            "9\n",
            "10\n",
            "9\n",
            "45 millones\n",
            "45 millones\n",
            "\n",
            "Correct.\n",
            "Correct.\n",
            "11\n",
            "21\n"
          ]
        }
      ]
    },
    {
      "cell_type": "markdown",
      "source": [
        "#### Labs - Functions"
      ],
      "metadata": {
        "id": "dpM5UllrUAQf"
      }
    },
    {
      "cell_type": "code",
      "source": [
        "#return (None)\n",
        "def ejemploUno():\n",
        "    print('Ejemplo sin None')\n",
        "def ejemploDos():\n",
        "    print('Ejemplo con return(None)')\n",
        "    return(None)\n",
        "print(ejemploUno())\n",
        "print(ejemploDos())\n",
        "#Quiz on Functions\n",
        "#Come up with a function that divides the first input by the second input:\n",
        "def division(a,b):\n",
        "    return a/b\n",
        "#Use the function con for the following question.\n",
        "def con(a, b):\n",
        "    return(a + b)\n",
        "#Can the con function we defined before be used to add two integers or strings?\n",
        "print(con(1,2))\n",
        "print(con(1.1,2.2))\n",
        "#Sí, es posible\n",
        "#Can the con function we defined before be used to concatenate lists or tuples?\n",
        "list1=[1,2,3]\n",
        "list2=[4,5,6]\n",
        "print(con(list1,list2))\n",
        "tuple1=('a',1,1.2)\n",
        "tuple2=('b',2,2.3)\n",
        "print(con(tuple1,tuple2))\n",
        "#Sí, es posible"
      ],
      "metadata": {
        "colab": {
          "base_uri": "https://localhost:8080/"
        },
        "id": "-Zpjo7B2UB9r",
        "outputId": "c9ac9bca-4e54-44b9-dfe8-0dbea087a0a0"
      },
      "execution_count": null,
      "outputs": [
        {
          "output_type": "stream",
          "name": "stdout",
          "text": [
            "Ejemplo sin None\n",
            "None\n",
            "Ejemplo con return(None)\n",
            "None\n",
            "3\n",
            "3.3000000000000003\n",
            "[1, 2, 3, 4, 5, 6]\n",
            "('a', 1, 1.2, 'b', 2, 2.3)\n"
          ]
        }
      ]
    },
    {
      "cell_type": "markdown",
      "source": [
        "#### Object and Classes (10:47)\n",
        "Python tiene diferentes tipos de datos, como int, float, string, list,dictionary, bool. Cada uno deellos es un **objeto**.\n",
        "Cada objeto tiene:\n",
        "- Un tipo\n",
        "- Una representación interna\n",
        "- Conjunto de procedimineto para su interacción (método)\n",
        "Métodos. Son funciones que cada instancia de esa clase otipo provee, es cómo interactuamos con el objeto\n",
        "\n",
        "Una **clase** tiene:\n",
        "- Métodos\n",
        "- Datos de atributos"
      ],
      "metadata": {
        "id": "40vSxT5sq7Ge"
      }
    },
    {
      "cell_type": "code",
      "source": [
        "#Crear una clase\n",
        "class persona(object):\n",
        "  def __init__(self,nombre,edad):\n",
        "    self.nombre=nombre;\n",
        "    self.edad=edad;\n",
        "  def personaInfo(self):\n",
        "    print('Nombre:',nombre)\n",
        "    print('Edad:',edad)\n",
        "nombre='María'\n",
        "edad=20\n",
        "p1=persona(nombre,edad)\n",
        "p1.personaInfo()\n",
        "p1.edad=22\n",
        "p1.personaInfo()\n",
        "#------Object and Classes (External resource) LAB------\n",
        "#You will need the class Car for the next exercises. The class Car has four data attributes: make, model, colour and number of owners (owner_number). The method  car_info()  prints out the data attributes and the method sell() increments the number of owners by 1.\n",
        "print(\"\")\n",
        "class Car(object):\n",
        "    def __init__(self,make,model,color):\n",
        "        self.make=make;\n",
        "        self.model=model;\n",
        "        self.color=color;\n",
        "        self.owner_number=0\n",
        "    def car_info(self):\n",
        "        print(\"make: \",self.make)\n",
        "        print(\"model:\", self.model)\n",
        "        print(\"color:\",self.color)\n",
        "        print(\"number of owners:\",self.owner_number)\n",
        "    def sell(self):\n",
        "        self.owner_number=self.owner_number+1\n",
        "#Create a  Car  object \"my_car\" with the given data attributes:\n",
        "make=\"BMW\"\n",
        "model=\"M3\"\n",
        "color=\"red\"\n",
        "my_car=Car(make,model,color)\n",
        "#Use the method car_info() to print out the data attributes.\n",
        "my_car.car_info()\n",
        "#Call the method  sell()  in the loop, then call the method  car_info() again\n",
        "for i in range(5):\n",
        "    my_car.sell()\n",
        "my_car.car_info()\n",
        "#Using the Class Car in the lab, create a Car object with the following attributes:\n",
        "car2=Car(make=\"Honda\",model=\"Accord\",color=\"blue\")\n",
        "car2.car_info()\n",
        "car3=Car(\"Honda\",\"Accord\",\"blue\")\n",
        "car3.car_info()\n",
        "car4=Car(model=\"Accord\",make=\"Honda\",color=\"blue\")\n",
        "car4.car_info()\n",
        "#From the lab, how would you change the data attribute owner_number ?\n",
        "#Utilising the method sell()."
      ],
      "metadata": {
        "colab": {
          "base_uri": "https://localhost:8080/"
        },
        "id": "gm7WUPs8q-gH",
        "outputId": "ab9233ef-509e-4c3f-9f71-ac31d00c8f38"
      },
      "execution_count": null,
      "outputs": [
        {
          "output_type": "stream",
          "name": "stdout",
          "text": [
            "Nombre: María\n",
            "Edad: 20\n",
            "Nombre: María\n",
            "Edad: 20\n",
            "\n",
            "make:  BMW\n",
            "model: M3\n",
            "color: red\n",
            "number of owners: 0\n",
            "make:  BMW\n",
            "model: M3\n",
            "color: red\n",
            "number of owners: 5\n",
            "make:  Honda\n",
            "model: Accord\n",
            "color: blue\n",
            "number of owners: 0\n",
            "make:  Honda\n",
            "model: Accord\n",
            "color: blue\n",
            "number of owners: 0\n",
            "make:  Honda\n",
            "model: Accord\n",
            "color: blue\n",
            "number of owners: 0\n"
          ]
        }
      ]
    },
    {
      "cell_type": "markdown",
      "source": [
        "#### Lab - Objects and Classes"
      ],
      "metadata": {
        "id": "JEkI2KxY4aZ8"
      }
    },
    {
      "cell_type": "code",
      "source": [
        "class analysedText(object):\n",
        "\n",
        "    def __init__ (self, text):\n",
        "        # TODO: Remove the punctuation from <text> and make it lower case.\n",
        "        textoLimpio=text.replace('.','').replace('!','').replace(',','').replace('?','')\n",
        "        textoLimpio=textoLimpio.lower()\n",
        "        # TODO: Assign the formatted text to a new attribute called \"fmtText\"\n",
        "        self.fmtText=textoLimpio\n",
        "\n",
        "    def freqAll(self):\n",
        "        # TODO: Split the text into a list of words\n",
        "        listaPalabras = self.fmtText.split(' ')\n",
        "        # TODO: Create a dictionary with the unique words in the text as keys\n",
        "        # and the number of times they occur in the text as values\n",
        "        diccionario={}\n",
        "        for word in set(listaPalabras): # use set to remove duplicates in list\n",
        "            diccionario[word]=listaPalabras.count(word)\n",
        "        # return the created dictionary\n",
        "        return diccionario\n",
        "\n",
        "    def freqOf(self,word):\n",
        "        # TODO: return the number of occurrences of <word> in <fmtText>\n",
        "        freqDict = self.freqAll()\n",
        "        if word in freqDict:\n",
        "            return freqDict[word]\n",
        "        else:\n",
        "            return 0\n",
        "import sys\n",
        "\n",
        "sampleMap = {'eirmod': 1,'sed': 1, 'amet': 2, 'diam': 5, 'consetetur': 1, 'labore': 1, 'tempor': 1, 'dolor': 1, 'magna': 2, 'et': 3, 'nonumy': 1, 'ipsum': 1, 'lorem': 2}\n",
        "\n",
        "def testMsg(passed):\n",
        "    if passed:\n",
        "       return 'Test Passed'\n",
        "    else :\n",
        "       return 'Test Failed'\n",
        "\n",
        "print(\"Constructor: \")\n",
        "try:\n",
        "    samplePassage = analysedText(\"Lorem ipsum dolor! diam amet, consetetur Lorem magna. sed diam nonumy eirmod tempor. diam et labore? et diam magna. et diam amet.\")\n",
        "    print(testMsg(samplePassage.fmtText == \"lorem ipsum dolor diam amet consetetur lorem magna sed diam nonumy eirmod tempor diam et labore et diam magna et diam amet\"))\n",
        "except:\n",
        "    print(\"Error detected. Recheck your function \" )\n",
        "print(\"freqAll: \")\n",
        "try:\n",
        "    wordMap = samplePassage.freqAll()\n",
        "    print(testMsg(wordMap==sampleMap))\n",
        "except:\n",
        "    print(\"Error detected. Recheck your function \" )\n",
        "print(\"freqOf: \")\n",
        "try:\n",
        "    passed = True\n",
        "    for word in sampleMap:\n",
        "        if samplePassage.freqOf(word) != sampleMap[word]:\n",
        "            passed = False\n",
        "            break\n",
        "    print(testMsg(passed))\n",
        "\n",
        "except:\n",
        "    print(\"Error detected. Recheck your function  \" )\n"
      ],
      "metadata": {
        "colab": {
          "base_uri": "https://localhost:8080/"
        },
        "id": "GYnFVJmI4bZL",
        "outputId": "4f510dfb-9e26-45b8-c2e1-96a181b4d32b"
      },
      "execution_count": null,
      "outputs": [
        {
          "output_type": "stream",
          "name": "stdout",
          "text": [
            "Constructor: \n",
            "Test Passed\n",
            "freqAll: \n",
            "Test Passed\n",
            "freqOf: \n",
            "Test Passed\n"
          ]
        }
      ]
    },
    {
      "cell_type": "markdown",
      "source": [
        "#### Lab - Exception Handling"
      ],
      "metadata": {
        "id": "pfkRGBam72Ew"
      }
    },
    {
      "cell_type": "code",
      "source": [
        "a = 1\n",
        "\n",
        "try:\n",
        "    b = int(input(\"Please enter a number to divide a\"))\n",
        "    a = a/b\n",
        "except ZeroDivisionError:\n",
        "    print(\"The number you provided cant divide 1 because it is 0\")\n",
        "except ValueError:\n",
        "    print(\"You did not provide a number\")\n",
        "except:\n",
        "    print(\"Something went wrong\")\n",
        "else:\n",
        "    print(\"success a=\",a)\n",
        "finally:\n",
        "    print(\"Processing Complete\")"
      ],
      "metadata": {
        "colab": {
          "base_uri": "https://localhost:8080/"
        },
        "id": "mNUvdHHh720Z",
        "outputId": "47573424-460d-49bb-ab29-3390122f84c4"
      },
      "execution_count": null,
      "outputs": [
        {
          "output_type": "stream",
          "name": "stdout",
          "text": [
            "Please enter a number to divide ak\n",
            "You did not provide a number\n",
            "Processing Complete\n"
          ]
        }
      ]
    },
    {
      "cell_type": "markdown",
      "source": [
        "#### Review Questions"
      ],
      "metadata": {
        "id": "89SRzNdr9AR8"
      }
    },
    {
      "cell_type": "code",
      "source": [
        "#What is the output of the following lines of code:\n",
        "x=1\n",
        "if(x!=1):\n",
        "  print('Hello')\n",
        "else:\n",
        "  print('Hi')\n",
        "print('Mike')\n",
        "#What is the output of the following few lines of code?\n",
        "A = ['1','2','3']\n",
        "for a in A:\n",
        "  print(2*a)\n",
        "#Consider the function Delta, when will the function return a value of 1\n",
        "def Delta(x):\n",
        "  if x==0:\n",
        "    y=1;\n",
        "  else:\n",
        "    y=0;\n",
        "  return(y)\n",
        "#When the input is 0.\n",
        "#What is the correct way to sort the list 'B' using a method? The result should not return a new list, just change the list 'B'.\n",
        "#B.sort()\n",
        "#What are the keys of the following dictionary: {'a':1,'b':2}?\n",
        "#a,b"
      ],
      "metadata": {
        "colab": {
          "base_uri": "https://localhost:8080/"
        },
        "id": "inIH0k-v9Hm9",
        "outputId": "221d3a99-6d23-4089-97f5-4071d015b382"
      },
      "execution_count": null,
      "outputs": [
        {
          "output_type": "stream",
          "name": "stdout",
          "text": [
            "Hi\n",
            "Mike\n",
            "11\n",
            "22\n",
            "33\n"
          ]
        }
      ]
    },
    {
      "cell_type": "markdown",
      "source": [
        "## Módulo 4. Working with Data in Python"
      ],
      "metadata": {
        "id": "dfvhdyBfgY_D"
      }
    },
    {
      "cell_type": "markdown",
      "source": [
        "#### Reading Files with Open (3:39)"
      ],
      "metadata": {
        "id": "tmnytdSYoQSU"
      }
    },
    {
      "cell_type": "code",
      "source": [
        "archivo=open(\"archivoOpen.txt\",'w') #Se genera al compilar esta línea\n",
        "archivo.write('Primera línea\\nSegunda línea\\nTercera línea\\nCuarta línea') #Escribimos en el archivo de texto\n",
        "print(archivo.name) #Nombre del archivo\n",
        "print(archivo.mode) #Modo en que se abre el archivo\n",
        "archivo.close() #Cerramos el archivo\n",
        "with open('archivoOpen.txt','r') as doc1: #Se abre con la declaración with para que cierre automático, esta vez en modo lectuta\n",
        "  conte=doc1.read()\n",
        "  print(conte) #Imprimimos su lectura\n",
        "print(\"\")\n",
        "with open('archivoOpen.txt','r') as doc2:\n",
        "  for lineas in doc2:\n",
        "    print(lineas) #Imprimos el contenido con un bucle for\n",
        "print(\"\")\n",
        "with open('archivoOpen.txt','r') as doc3:\n",
        "  l1=doc3.readline()\n",
        "  print(l1) #Imprimimos línea por línea manualmente\n",
        "  l2=doc3.readline()\n",
        "  print(l2)\n",
        "  l3=doc3.readline()\n",
        "  print(l3)\n",
        "  l4=doc3.readline()\n",
        "  print(l4)\n",
        "print(\"\")\n",
        "with open('archivoOpen.txt','r') as doc4:\n",
        "  print(doc4.read(4)) #Primeros 4 caracteres\n",
        "  print(doc4.read(8)) #Siguientes 8\n",
        "  print(doc4.read(16)) #Siguientes 16\n"
      ],
      "metadata": {
        "id": "qNjw9qof9FO2",
        "colab": {
          "base_uri": "https://localhost:8080/"
        },
        "outputId": "a3caaa52-39b6-4553-99ae-714f166ede44"
      },
      "execution_count": null,
      "outputs": [
        {
          "output_type": "stream",
          "name": "stdout",
          "text": [
            "archivoOpen.txt\n",
            "w\n",
            "Primera línea\n",
            "Segunda línea\n",
            "Tercera línea\n",
            "Cuarta línea\n",
            "\n",
            "Primera línea\n",
            "\n",
            "Segunda línea\n",
            "\n",
            "Tercera línea\n",
            "\n",
            "Cuarta línea\n",
            "\n",
            "Primera línea\n",
            "\n",
            "Segunda línea\n",
            "\n",
            "Tercera línea\n",
            "\n",
            "Cuarta línea\n",
            "\n",
            "Prim\n",
            "era líne\n",
            "a\n",
            "Segunda línea\n",
            "\n"
          ]
        }
      ]
    },
    {
      "cell_type": "markdown",
      "source": [
        "#### Lab - Reading Files"
      ],
      "metadata": {
        "id": "naqcha9rKLqj"
      }
    },
    {
      "cell_type": "code",
      "source": [
        "arc=open(\"archivo2.txt\",'w') #Se genera al compilar esta línea\n",
        "arc.write('Hoy\\nes\\ndía\\nmartes') #Escribimos en el archivo de texto\n",
        "arc.close()\n",
        "with open('archivo2.txt','r') as doc5:\n",
        "  contenidoF=doc5.read()\n",
        "  print(contenidoF)\n",
        "with open('archivo2.txt','r') as doc6:\n",
        "  cac1=doc6.readline(1)\n",
        "  print('Primer caracter:',cac1)\n",
        "with open('archivo2.txt','r') as doc7:\n",
        "  listaLineas=doc7.readlines()\n",
        "  print(listaLineas[0]) #Primera línea por índice\n",
        "  print(listaLineas[1]) #Segunda\n",
        "  print(listaLineas[2]) #Tercera\n",
        "  print(listaLineas[3]) #Cuarta"
      ],
      "metadata": {
        "colab": {
          "base_uri": "https://localhost:8080/"
        },
        "id": "fSpxW5IyKQHX",
        "outputId": "aced825a-e33f-40c8-ecef-68ddc8d9581f"
      },
      "execution_count": null,
      "outputs": [
        {
          "output_type": "stream",
          "name": "stdout",
          "text": [
            "Hoy\n",
            "es\n",
            "día\n",
            "martes\n",
            "Primer caracter: H\n",
            "Hoy\n",
            "\n",
            "es\n",
            "\n",
            "día\n",
            "\n",
            "martes\n"
          ]
        }
      ]
    },
    {
      "cell_type": "markdown",
      "source": [
        "#### Writing Files with Open (2:50)"
      ],
      "metadata": {
        "id": "oUroqCcBfQ8K"
      }
    },
    {
      "cell_type": "code",
      "source": [
        "#Debido a que en la sección anterior necesitaba un archivo que se pudiera crear, abrir y escribir\n",
        "#al compilar la sección de código desde cualquier sitio, tuve que investigar cómo hacerlo antes de\n",
        "#esta sección, por lo que se añaden ejemplos específicos de lo venía en el vídeo\n",
        "#Crear un archivo txt y escribir en él\n",
        "lineas=['Hoy\\n','es\\n','21\\n','septiembre\\n','2022\\n'] #Lista para añadir texto en el archivo\n",
        "with open('archivoNuevo.txt','w') as docA: #Creamos un archivo en modo escritura\n",
        "  for linea in lineas:\n",
        "    docA.write(linea) #Usamos un bucle for para escribir cada línea de la lista en docA\n",
        "#Leer un archivo\n",
        "with open('archivoNuevo.txt','r') as docA: #Abrimos el archivo tal como fue creado, solo que en modo lectura ('r')\n",
        "  print(docA.read()) #Leemos e imprimimos el contenido de docA para verificar que se escribió la lista\n",
        "#Añadir una nueva línea a un archivo existente\n",
        "with open('archivoNuevo.txt','a') as docA: #Abrimos el mismo txt pero en modo apprend ('a')\n",
        "  docA.write('Es miércoles') #De forma que podemos añadir una nueva línea al contenido actual\n",
        "with open('archivoNuevo.txt','r') as docA: #Abrimos el txt en modo lectura\n",
        "  print(docA.read()) #Para comprobar que la última línea fue añadida\n",
        "#Copiar el contenido de un archivo en otro\n",
        "print(\"\")\n",
        "with open('archivoNuevo.txt','r') as docA: #Abrimos como lectura la información que vamos a pasar\n",
        "  with open('archivoClonado.txt','w') as docClonado: #Creamos el archivo que recibe la información\n",
        "    for line in docA:\n",
        "      docClonado.write(line) #Escribimos como antes cada línea de código con un for\n",
        "with open('archivoClonado.txt','r') as docClonado:\n",
        "  print(docClonado.read()) #Comprobamos que la información se copió"
      ],
      "metadata": {
        "colab": {
          "base_uri": "https://localhost:8080/"
        },
        "id": "JsjBA1kVffA2",
        "outputId": "3dc0ec8f-f443-4d9d-c0e9-bf25560be849"
      },
      "execution_count": null,
      "outputs": [
        {
          "output_type": "stream",
          "name": "stdout",
          "text": [
            "Hoy\n",
            "es\n",
            "21\n",
            "septiembre\n",
            "2022\n",
            "\n",
            "Hoy\n",
            "es\n",
            "21\n",
            "septiembre\n",
            "2022\n",
            "Es miércoles\n",
            "\n",
            "Hoy\n",
            "es\n",
            "21\n",
            "septiembre\n",
            "2022\n",
            "Es miércoles\n"
          ]
        }
      ]
    },
    {
      "cell_type": "markdown",
      "source": [
        "#### Lab - Writing Files\n",
        "- r+ : Reading and writing. Cannot truncate the file.\n",
        "- w+ : Writing and reading. Truncates the file (sobreescribe la información existente)\n",
        "- a+ : Appending and Reading. Creates a new file, if none exists.\n",
        "Se puede usar el método .truncate() con r+ y a+ para reducir el archivo a neustros datos y eliminar todo lo que siga"
      ],
      "metadata": {
        "id": "bOTuegWk9YZm"
      }
    },
    {
      "cell_type": "code",
      "source": [
        "#Run this prior to starting the exercise\n",
        "from random import randint as rnd\n",
        "\n",
        "memReg = 'members.txt'\n",
        "exReg = 'inactive.txt'\n",
        "fee =('yes','no')\n",
        "\n",
        "def genFiles(current,old):\n",
        "    with open(current,'w+') as writefile:\n",
        "        writefile.write('Membership No  Date Joined  Active  \\n')\n",
        "        data = \"{:^13}  {:<11}  {:<6}\\n\"\n",
        "\n",
        "        for rowno in range(20):\n",
        "            date = str(rnd(2015,2020))+ '-' + str(rnd(1,12))+'-'+str(rnd(1,25))\n",
        "            writefile.write(data.format(rnd(10000,99999),date,fee[rnd(0,1)]))\n",
        "\n",
        "\n",
        "    with open(old,'w+') as writefile:\n",
        "        writefile.write('Membership No  Date Joined  Active  \\n')\n",
        "        data = \"{:^13}  {:<11}  {:<6}\\n\"\n",
        "        for rowno in range(3):\n",
        "            date = str(rnd(2015,2020))+ '-' + str(rnd(1,12))+'-'+str(rnd(1,25))\n",
        "            writefile.write(data.format(rnd(10000,99999),date,fee[1]))\n",
        "\n",
        "\n",
        "genFiles(memReg,exReg)\n",
        "#Exercise: Implement the cleanFiles function in the code cell below.\n",
        "'''\n",
        "The two arguments for this function are the files:\n",
        "    - currentMem: File containing list of current members\n",
        "    - exMem: File containing list of old members\n",
        "\n",
        "    This function should remove all rows from currentMem containing 'no'\n",
        "    in the 'Active' column and appends them to exMem.\n",
        "    '''\n",
        "def cleanFiles(currentMem, exMem):\n",
        "    #    # TODO: Open the currentMem file as in r+ mode\n",
        "    with open(currentMem,'r+') as escritura:\n",
        "        #TODO: Open the exMem file in a+ mode\n",
        "        with open(exMem,'a+') as anexado:\n",
        "            #get the data\n",
        "            escritura.seek(0)\n",
        "            miembros=escritura.readlines()\n",
        "            #remove header\n",
        "            header=miembros[0]\n",
        "            miembros.pop(0)\n",
        "\n",
        "            inactivo=[member for member in miembros if ('no' in member)]\n",
        "            '''\n",
        "            The above is the same as\n",
        "\n",
        "            for member in miembros:\n",
        "            if 'no' in member:\n",
        "                inactivo.append(member)\n",
        "            '''\n",
        "            #go to the beginning of the write file\n",
        "            escritura.seek(0)\n",
        "            escritura.write(header)\n",
        "            for member in miembros:\n",
        "                if (member in inactivo):\n",
        "                    anexado.write(member)\n",
        "                else:\n",
        "                    escritura.write(member)\n",
        "            escritura.truncate()\n",
        "        # If a member is inactive, add them to exMem, otherwise write them into currentMem\n",
        "\n",
        "# The code below is to help you view the files.\n",
        "# Do not modify this code for this exercise.\n",
        "memReg = 'members.txt'\n",
        "exReg = 'inactive.txt'\n",
        "cleanFiles(memReg,exReg)\n",
        "\n",
        "\n",
        "headers = \"Membership No  Date Joined  Active  \\n\"\n",
        "with open(memReg,'r') as readFile:\n",
        "    print(\"Active Members: \\n\\n\")\n",
        "    print(readFile.read())\n",
        "\n",
        "with open(exReg,'r') as readFile:\n",
        "    print(\"Inactive Members: \\n\\n\")\n",
        "    print(readFile.read())\n",
        "def testMsg(passed):\n",
        "    if passed:\n",
        "       return 'Test Passed'\n",
        "    else :\n",
        "       return 'Test Failed'\n",
        "\n",
        "testWrite = \"testWrite.txt\"\n",
        "testAppend = \"testAppend.txt\"\n",
        "passed = True\n",
        "\n",
        "genFiles(testWrite,testAppend)\n",
        "\n",
        "with open(testWrite,'r') as file:\n",
        "    ogWrite = file.readlines()\n",
        "\n",
        "with open(testAppend,'r') as file:\n",
        "    ogAppend = file.readlines()\n",
        "\n",
        "try:\n",
        "    cleanFiles(testWrite,testAppend)\n",
        "except:\n",
        "    print('Error')\n",
        "\n",
        "with open(testWrite,'r') as file:\n",
        "    clWrite = file.readlines()\n",
        "\n",
        "with open(testAppend,'r') as file:\n",
        "    clAppend = file.readlines()\n",
        "\n",
        "# checking if total no of rows is same, including headers\n",
        "\n",
        "if (len(ogWrite) + len(ogAppend) != len(clWrite) + len(clAppend)):\n",
        "    print(\"The number of rows do not add up. Make sure your final files have the same header and format.\")\n",
        "    passed = False\n",
        "\n",
        "for line in clWrite:\n",
        "    if  'no' in line:\n",
        "        passed = False\n",
        "        print(\"Inactive members in file\")\n",
        "        break\n",
        "    else:\n",
        "        if line not in ogWrite:\n",
        "            print(\"Data in file does not match original file\")\n",
        "            passed = False\n",
        "print (\"{}\".format(testMsg(passed)))\n"
      ],
      "metadata": {
        "colab": {
          "base_uri": "https://localhost:8080/"
        },
        "id": "mexV1Aen9b0P",
        "outputId": "0fe2bbc2-f323-4d68-cae2-b8d797386685"
      },
      "execution_count": null,
      "outputs": [
        {
          "output_type": "stream",
          "name": "stdout",
          "text": [
            "Active Members: \n",
            "\n",
            "\n",
            "Membership No  Date Joined  Active  \n",
            "    51602      2018-10-19   yes   \n",
            "    80052      2016-4-13    yes   \n",
            "    20837      2018-1-8     yes   \n",
            "    53302      2017-11-13   yes   \n",
            "    62028      2016-1-7     yes   \n",
            "    56447      2020-5-3     yes   \n",
            "    12756      2018-10-13   yes   \n",
            "    10130      2017-3-14    yes   \n",
            "    57630      2016-4-10    yes   \n",
            "    72867      2016-11-20   yes   \n",
            "    84677      2018-1-10    yes   \n",
            "\n",
            "Inactive Members: \n",
            "\n",
            "\n",
            "Membership No  Date Joined  Active  \n",
            "    46417      2017-6-18    no    \n",
            "    65000      2015-6-18    no    \n",
            "    78701      2019-12-24   no    \n",
            "    27246      2019-3-6     no    \n",
            "    87908      2015-7-24    no    \n",
            "    89348      2017-5-11    no    \n",
            "    62495      2017-11-1    no    \n",
            "    25452      2019-1-5     no    \n",
            "    57761      2015-3-21    no    \n",
            "    14437      2015-10-16   no    \n",
            "    33614      2020-2-9     no    \n",
            "    47505      2015-8-2     no    \n",
            "\n",
            "Test Passed\n"
          ]
        }
      ]
    },
    {
      "cell_type": "markdown",
      "source": [
        "#### Loading Data with Pandas (4:07)\n",
        "Las dependencias o librerías son código escritos con anterioridad que nos ayudan a resolver problemas.\n",
        "Pandas es una librería popular para el análisis de datos"
      ],
      "metadata": {
        "id": "3WQdK7R9Tpc2"
      }
    },
    {
      "cell_type": "code",
      "source": [
        "import pandas as pd #Importamos la librería de pandas\n",
        "#Creamos un diccionario para utilizarlo como archivo\n",
        "caract={'Letras':['A','B','C','D','E','F'],\n",
        "        'Años':[1995,1996,1997,1998,1999,2000],\n",
        "        'Numeros':['uno','dos','tres','cuatro','cinco','seis']}\n",
        "#Cast de diccionario a DataFrame\n",
        "df=pd.DataFrame(caract)\n",
        "print(type(df))\n",
        "print(df.head()) #Muestra las primeras 5 filas\n",
        "#Comandos ejemplo para leer archivos.\n",
        "#Leyendo csv\n",
        "#file_csv='tabla1.csv'\n",
        "#df1=pd.read_csv(file_csv)\n",
        "#Leyendo Excel\n",
        "#tabla_xlsx='tabla2.xlsx'\n",
        "#df2=pd.read_excel(tabla_xlsx)\n",
        "#Indexación\n",
        "l=df[['Letras']] #Por nombre de columna\n",
        "print(\"Algunas letras son:\",l)\n",
        "lm=df[['Letras','Años']]\n",
        "print(\"Columnas múltiples:\\n\",lm)\n",
        "#Aunque se muestra en el vídeo, .ix ya no está disponible\n",
        "#en versiones actuales de pandas\n",
        "#En su lugar se usa .iloc o .loc\n",
        "#Extraer ciertos elementos\n",
        "print(df.iloc[:,1]) #Todos los elementos de la segunda columna (índice 1)\n",
        "print(df.iloc[1,1]) #Segunda fila, segunda columna\n",
        "print(df.loc[:,'Letras']) #Todos los elementos, columna 'Letras'\n",
        "print(df.loc[0,'Letras']) #Primer elemento columna 'Letras'\n",
        "#------Loading Data with Pandas (External resource) LAB------\n",
        "print(\"\")\n",
        "#You will use the dataframe df for the following:\n",
        "df=pd.DataFrame({'a':[11,21,31],'b':[21,22,23]})\n",
        "#Display the first three rows:\n",
        "print(df.head(3))\n",
        "#Obtain column  'a' :\n",
        "print(df['a'])"
      ],
      "metadata": {
        "colab": {
          "base_uri": "https://localhost:8080/"
        },
        "id": "zCnLa7I9T3ik",
        "outputId": "11d3fb7c-9376-463a-9818-73f1bd5b036c"
      },
      "execution_count": null,
      "outputs": [
        {
          "output_type": "stream",
          "name": "stdout",
          "text": [
            "<class 'pandas.core.frame.DataFrame'>\n",
            "  Letras  Años Numeros\n",
            "0      A  1995     uno\n",
            "1      B  1996     dos\n",
            "2      C  1997    tres\n",
            "3      D  1998  cuatro\n",
            "4      E  1999   cinco\n",
            "Algunas letras son:   Letras\n",
            "0      A\n",
            "1      B\n",
            "2      C\n",
            "3      D\n",
            "4      E\n",
            "5      F\n",
            "Columnas múltiples:\n",
            "   Letras  Años\n",
            "0      A  1995\n",
            "1      B  1996\n",
            "2      C  1997\n",
            "3      D  1998\n",
            "4      E  1999\n",
            "5      F  2000\n",
            "0    1995\n",
            "1    1996\n",
            "2    1997\n",
            "3    1998\n",
            "4    1999\n",
            "5    2000\n",
            "Name: Años, dtype: int64\n",
            "1996\n",
            "0    A\n",
            "1    B\n",
            "2    C\n",
            "3    D\n",
            "4    E\n",
            "5    F\n",
            "Name: Letras, dtype: object\n",
            "A\n",
            "\n",
            "    a   b\n",
            "0  11  21\n",
            "1  21  22\n",
            "2  31  23\n",
            "0    11\n",
            "1    21\n",
            "2    31\n",
            "Name: a, dtype: int64\n"
          ]
        }
      ]
    },
    {
      "cell_type": "markdown",
      "source": [
        "#### Working with and Saving Data with Pandas (2:02)"
      ],
      "metadata": {
        "id": "7DMZ-RLvq_Li"
      }
    },
    {
      "cell_type": "code",
      "source": [
        "caract={'Letras':['A','B','C','D','E','F'],\n",
        "        'Años':[1995,1996,1997,1998,1999,2000],\n",
        "        'Numeros':['uno','dos','tres','cuatro','cinco','seis']}\n",
        "df=pd.DataFrame(caract)\n",
        "print(df)\n",
        "print(\"\")\n",
        "print(df.iloc[2:5,1]) #Indexación de varios elementos consecutivos\n",
        "print(\"\")\n",
        "print(df['Años']<1998) #Arreglo booleano empleando operadores lógicos\n",
        "x=df[df['Años']<1998] #Para conservar solo los elementos cuya condición=True\n",
        "print(\"\")\n",
        "print(x) #Nuevo dataframe con las filas donde el año es menor a 1998\n",
        "x.to_csv('Menorque1998.csv')  #El df se exporta o guarda como csv\n",
        "print(\"\")\n",
        "print(\"Se lee el csv creado en la línea anterior:\")\n",
        "df1=pd.read_csv('/content/Menorque1998.csv')\n",
        "print(df1)\n",
        "#------Working with and Saving Data with Pandas (External resource) LAB------\n",
        "#You will use the dataframe df for the following:\n",
        "df=pd.DataFrame({'a':[1,2,1],'b':[1,1,1]})\n",
        "#Find the unique values in column  'a' :\n",
        "print(df['a'].unique())\n",
        "#Return a dataframe with only the rows where column  a  is less than two:\n",
        "newDF=df[df['a']<2]\n",
        "print(newDF)\n",
        "#Consider the dataframe\n",
        "df=pd.DataFrame({'a':[1,2,1],'b':[1,1,1]})\n",
        "#What type does the following return: df['a']==1 ?\n",
        "#bool\n",
        "#What task does the following method perform: df.to_csv(\"file.csv\")?\n",
        "#Save a dataframe to a csv file."
      ],
      "metadata": {
        "colab": {
          "base_uri": "https://localhost:8080/"
        },
        "id": "n4dgMu9Goyuj",
        "outputId": "a58a999b-b1b0-4f6f-9cd7-5b492d6beb71"
      },
      "execution_count": null,
      "outputs": [
        {
          "output_type": "stream",
          "name": "stdout",
          "text": [
            "  Letras  Años Numeros\n",
            "0      A  1995     uno\n",
            "1      B  1996     dos\n",
            "2      C  1997    tres\n",
            "3      D  1998  cuatro\n",
            "4      E  1999   cinco\n",
            "5      F  2000    seis\n",
            "\n",
            "2    1997\n",
            "3    1998\n",
            "4    1999\n",
            "Name: Años, dtype: int64\n",
            "\n",
            "0     True\n",
            "1     True\n",
            "2     True\n",
            "3    False\n",
            "4    False\n",
            "5    False\n",
            "Name: Años, dtype: bool\n",
            "\n",
            "  Letras  Años Numeros\n",
            "0      A  1995     uno\n",
            "1      B  1996     dos\n",
            "2      C  1997    tres\n",
            "\n",
            "Se lee el csv creado en la línea anterior:\n",
            "   Unnamed: 0 Letras  Años Numeros\n",
            "0           0      A  1995     uno\n",
            "1           1      B  1996     dos\n",
            "2           2      C  1997    tres\n",
            "[1 2]\n",
            "   a  b\n",
            "0  1  1\n",
            "2  1  1\n",
            "<class 'pandas.core.series.Series'>\n"
          ]
        }
      ]
    },
    {
      "cell_type": "markdown",
      "source": [
        "#### Lab - Loading Data and Viewing Data"
      ],
      "metadata": {
        "id": "RJhYsn773ciy"
      }
    },
    {
      "cell_type": "code",
      "source": [
        "#Quiz on DataFrame\n",
        "#Para esta parte, se descargó el csv del laboratorio y se subió a los archivos\n",
        "#El archivo se encuentra en https://cf-courses-data.s3.us.cloud-object-storage.appdomain.cloud/IBMDeveloperSkillsNetwork-PY0101EN-SkillsNetwork/labs/Module%204/data/TopSellingAlbums.csv\n",
        "df = pd.read_csv(\"TopSellingAlbums.csv\")\n",
        "#Use a variable q to store the column Rating as a dataframe\n",
        "q=df[['Rating']]\n",
        "print(type(q))\n",
        "print(q)\n",
        "#Assign the variable q to the dataframe that is made up of the column Released and Artist:\n",
        "q=df[['Released','Artist']]\n",
        "print(q)\n",
        "#Access the 2nd row and the 3rd column of df:\n",
        "print(df.iloc[1,2])\n",
        "#Use the following list to convert the dataframe index df to characters and assign it to df_new; find the element corresponding to the row index a and column 'Artist'. Then select the rows a through d for the column 'Artist'\n",
        "new_index=['a','b','c','d','e','f','g','h']\n",
        "df_new=df\n",
        "df_new.index=new_index\n",
        "df_new.loc['a','Artist']\n",
        "df_new.loc['a':'d','Artist']"
      ],
      "metadata": {
        "colab": {
          "base_uri": "https://localhost:8080/"
        },
        "id": "k3F1oVqp3elR",
        "outputId": "3031ee97-b0df-4b85-80a5-eea03ea4c0a6"
      },
      "execution_count": null,
      "outputs": [
        {
          "output_type": "stream",
          "name": "stdout",
          "text": [
            "<class 'pandas.core.frame.DataFrame'>\n",
            "   Rating\n",
            "0    10.0\n",
            "1     9.5\n",
            "2     9.0\n",
            "3     8.5\n",
            "4     8.0\n",
            "5     7.5\n",
            "6     7.0\n",
            "7     6.5\n",
            "   Released           Artist\n",
            "0      1982  Michael Jackson\n",
            "1      1980            AC/DC\n",
            "2      1973       Pink Floyd\n",
            "3      1992  Whitney Houston\n",
            "4      1977        Meat Loaf\n",
            "5      1976           Eagles\n",
            "6      1977         Bee Gees\n",
            "7      1977    Fleetwood Mac\n",
            "1980\n"
          ]
        },
        {
          "output_type": "execute_result",
          "data": {
            "text/plain": [
              "a    Michael Jackson\n",
              "b              AC/DC\n",
              "c         Pink Floyd\n",
              "d    Whitney Houston\n",
              "Name: Artist, dtype: object"
            ]
          },
          "metadata": {},
          "execution_count": 54
        }
      ]
    },
    {
      "cell_type": "markdown",
      "source": [
        "#### Review Questions"
      ],
      "metadata": {
        "id": "74XeALcu-ndn"
      }
    },
    {
      "cell_type": "code",
      "source": [
        "#What do the following lines of code do?\n",
        "#with open(\"Example1.txt\",\"r\") as file1:\n",
        "  #FileContent=file1.readlines()\n",
        "  #print(FileContent)\n",
        "#ANS: Read the file \"Example1.txt\".\n",
        "#What do the following lines of code do?\n",
        "#with open(\"Example2.txt\",\"w\") as writefile:\n",
        "  #writefile.write(\"This is line A\\n\")\n",
        "  #writefile.write(\"This is line B\\n\")\n",
        "#ANS: Write to the file \"Example2.txt\".\n",
        "#What do the following lines of code do?\n",
        "#with open(\"Example3.txt\",\"a\") as file1:\n",
        "  #file1.write(\"This is line C\\n\")\n",
        "#ANS: Append the file \"Example3.txt\".\n",
        "#What is the result of applying the following method df.head() to the dataframe \"df\"?\n",
        "#ANS: Prints the first 5 rows of the dataframe."
      ],
      "metadata": {
        "id": "B7Igl3Vi-pBd"
      },
      "execution_count": null,
      "outputs": []
    },
    {
      "cell_type": "markdown",
      "source": [
        "## Módulo 5. Working with Numpy Arrays & Simple APIs"
      ],
      "metadata": {
        "id": "bxKJEKbM4QoU"
      }
    },
    {
      "cell_type": "markdown",
      "source": [
        "#### Numpy 1D Arrays (11:19)"
      ],
      "metadata": {
        "id": "UOfdEp-w4gzu"
      }
    },
    {
      "cell_type": "code",
      "source": [
        "import numpy as np\n",
        "import matplotlib.pyplot as plt #Se importa la librería para graficar\n",
        "%matplotlib inline\n",
        "#Básicos\n",
        "lista=[1,2,3,4,5,6]\n",
        "print(lista)\n",
        "print(type(lista))\n",
        "npArreglo=np.array(lista) #Cast de lista a arreglo numpy\n",
        "print(npArreglo)\n",
        "print(type(npArreglo)) #Se comprueba que no es una lista, sino arreglo numpy\n",
        "print(npArreglo.dtype) #Tipos de dats de los elementos en el arreglo numpy\n",
        "print(npArreglo.size) #Tamaño del arreglo, cantidad de elementos\n",
        "print(npArreglo.ndim) #Dimensiones del arreglo,\n",
        "print(npArreglo.shape) #Tupla de enteros que indica el tamaño del arreglo en cada dimensión\n",
        "print(\"\")\n",
        "#Indexación y asignación\n",
        "npArreglo[0]=10 #Elemento de índice cero se cambia por 10\n",
        "npArreglo[3:5]=40,50 #Se asignan nuevos valores a los elementos de índice 4-5 en el arreglo\n",
        "print(npArreglo)\n",
        "print(\"\")\n",
        "#Suma y resta con vectores\n",
        "a=[1,2]\n",
        "b=[3,4]\n",
        "c=[]\n",
        "#Computación tradicional\n",
        "for n,m in zip(a,b): #Los métodos tradicionals requieren más código\n",
        "  c.append(a+b) #Mayor computación y memoria\n",
        "print(c)\n",
        "#Con numpy\n",
        "a=np.array(a) #Cast\n",
        "b=np.array(b)\n",
        "c=a+b\n",
        "d=a-b\n",
        "print(c)\n",
        "print(d)\n",
        "print(\"\")\n",
        "#Multiplicando un arreglo por escalar\n",
        "e=a*2 #a ya es un arreglo numpy\n",
        "asuma=a+4\n",
        "print('a:',a)\n",
        "print('a*2:',e)\n",
        "print('a+4',asuma)\n",
        "#Producto de dos arreglos\n",
        "ab=a*b\n",
        "print('a*b:',ab)\n",
        "#Producto punto\n",
        "resultado=np.dot(a,b)\n",
        "print(resultado)\n",
        "print(\"\")\n",
        "#Operaciones universales\n",
        "promC=c.mean()\n",
        "print('c:',c)\n",
        "print('promedio de c:',promC)\n",
        "print('pi:',np.pi)\n",
        "lin=np.linspace(-1,np.pi,10) #Arreglo espaciado de forma uniforme que va de -1 al valor de pi,\n",
        "print(lin) #con 10 elementos\n",
        "linSin=np.sin(lin)\n",
        "print(linSin) #Se obtiene el seno de lin\n",
        "print(\"\")\n",
        "#Graficando funciones matemáticas\n",
        "plt.plot(lin,linSin)\n",
        "\n",
        "print(\"\")\n",
        "#------Numpy 1D Array (External resource) LAB------\n",
        "#Cast the following list to a numpy array:\n",
        "a=[1,2,3,4,5]\n",
        "x=np.array(a)\n",
        "#Find the type of x using the function type().\n",
        "print(type(x))\n",
        "#Find the shape of the array:\n",
        "print(x.shape)\n",
        "#Find the type of data in the array:\n",
        "print(x.dtype)\n",
        "#Find the mean of the array:\n",
        "print(x.mean())\n",
        "#What is the result of the following operation: np.array([1,-1])*np.array([1,1])?\n",
        "np.array([1,-1])*np.array([1,1])\n",
        "#What is the result of the following operation: np.dot(np.array([1,-1]),np.array([1,1]))?\n",
        "np.dot(np.array([1,-1]),np.array([1,1]))"
      ],
      "metadata": {
        "colab": {
          "base_uri": "https://localhost:8080/",
          "height": 890
        },
        "id": "SvsQvC1q7lPf",
        "outputId": "065481e0-cffc-460a-8de8-1da12140b561"
      },
      "execution_count": null,
      "outputs": [
        {
          "output_type": "stream",
          "name": "stdout",
          "text": [
            "[1, 2, 3, 4, 5, 6]\n",
            "<class 'list'>\n",
            "[1 2 3 4 5 6]\n",
            "<class 'numpy.ndarray'>\n",
            "int64\n",
            "6\n",
            "1\n",
            "(6,)\n",
            "\n",
            "[10  2  3 40 50  6]\n",
            "\n",
            "[[1, 2, 3, 4], [1, 2, 3, 4]]\n",
            "[4 6]\n",
            "[-2 -2]\n",
            "\n",
            "a: [1 2]\n",
            "a*2: [2 4]\n",
            "a+4 [5 6]\n",
            "a*b: [3 8]\n",
            "11\n",
            "\n",
            "c: [4 6]\n",
            "promedio de c: 5.0\n",
            "pi: 3.141592653589793\n",
            "[-1.         -0.53982304 -0.07964608  0.38053088  0.84070785  1.30088481\n",
            "  1.76106177  2.22123873  2.68141569  3.14159265]\n",
            "[-8.41470985e-01 -5.13984202e-01 -7.95618979e-02  3.71413431e-01\n",
            "  7.45115394e-01  9.63794493e-01  9.81954069e-01  7.95815984e-01\n",
            "  4.44106667e-01  1.22464680e-16]\n",
            "\n",
            "\n",
            "<class 'numpy.ndarray'>\n",
            "(5,)\n",
            "int64\n",
            "3.0\n"
          ]
        },
        {
          "output_type": "execute_result",
          "data": {
            "text/plain": [
              "0"
            ]
          },
          "metadata": {},
          "execution_count": 54
        },
        {
          "output_type": "display_data",
          "data": {
            "text/plain": [
              "<Figure size 432x288 with 1 Axes>"
            ],
            "image/png": "[encoded data removed]"
          },
          "metadata": {
            "needs_background": "light"
          }
        }
      ]
    },
    {
      "cell_type": "markdown",
      "source": [
        "#### Lab - Working with 1D Numpy Arrays"
      ],
      "metadata": {
        "id": "Y64OoOs1UGlu"
      }
    },
    {
      "cell_type": "code",
      "source": [
        "import numpy as np\n",
        "import matplotlib.pyplot as plt #Se importa la librería para graficar\n",
        "%matplotlib inline\n",
        "print(np.__version__) #Versión de la librería pandas\n",
        "#Try it yourself\n",
        "#Check the type of the array and Value type for the given array b\n",
        "b = np.array([3.1, 11.02, 6.2, 213.2, 5.2])\n",
        "print(b.dtype)\n",
        "#Assign the value 20 for the second element in the given array.\n",
        "a = np.array([10, 2, 30, 40,50])\n",
        "print(a)\n",
        "a[1]=20\n",
        "print(a)\n",
        "#We can also define the steps in slicing, like this: [start:end:step].\n",
        "#Print the even elements in the given array.\n",
        "arr = np.array([1, 2, 3, 4, 5, 6, 7, 8])\n",
        "print(arr[1:8:2])\n",
        "print('max arr:',np.max(arr))\n",
        "print('min arr:',np.min(arr))\n",
        "print('std arr:',np.std(arr))\n",
        "#Find the size ,dimension and shape for the given array b\n",
        "b = np.array([10, 20, 30, 40, 50, 60, 70])\n",
        "print(b.size)\n",
        "print(b.ndim)\n",
        "print(b.shape)\n",
        "#Find the sum of maximum and minimum value in the given numpy array\n",
        "c = np.array([-10, 201, 43, 94, 502])\n",
        "mi=np.min(c)\n",
        "ma=np.max(c)\n",
        "suma=mi+ma\n",
        "print('min:',mi,'max:',ma,'min+msx:',suma)\n",
        "#Perform addition operation on the given numpy array arr1 and arr2:\n",
        "arr1 = np.array([10, 11, 12, 13, 14, 15])\n",
        "arr2 = np.array([20, 21, 22, 23, 24, 25])\n",
        "arr3 = np.add(arr1, arr2)\n",
        "print(arr3)\n",
        "print(arr1+arr2) #.add = +\n",
        "#Perform subtraction operation on the given numpy array arr1 and arr2:\n",
        "arr1 = np.array([10, 20, 30, 40, 50, 60])\n",
        "arr2 = np.array([20, 21, 22, 23, 24, 25])\n",
        "arr3 = np.subtract(arr1, arr2)\n",
        "print(arr3)\n",
        "print(arr1-arr2) #subtract = -\n",
        "#Perform multiply operation on the given numpy array arr1 and arr2:\n",
        "arr1 = np.array([10, 20, 30, 40, 50, 60])\n",
        "arr2 = np.array([2, 1, 2, 3, 4, 5])\n",
        "arr3 = np.multiply(arr1, arr2)\n",
        "print(arr3)\n",
        "#Perform division operation on the given numpy array arr1 and arr2:\n",
        "arr1 = np.array([10, 20, 30, 40, 50, 60])\n",
        "arr2 = np.array([3, 5, 10, 8, 2, 33])\n",
        "arr3 = np.divide(arr1, arr2)\n",
        "print(arr3)\n",
        "#Perform dot operation on the given numpy array ar1 and ar2:\n",
        "arr1 = np.array([3, 5])\n",
        "arr2 = np.array([2, 4])\n",
        "arr3 = np.dot(arr1, arr2)\n",
        "print(arr3)\n",
        "#Add Constant 5 to the given numpy array ar:\n",
        "arr = np.array([1, 2, 3, -1])\n",
        "print(arr+5)\n",
        "#Make a numpy array within [5, 4] and 6 elements\n",
        "na=np.linspace(5,4,6) #No es obligatorio usar la palabra num=\n",
        "print(na)\n",
        "print(np.linspace(5,4,num=6))\n",
        "#------Quiz on 1D Numpy Array------\n",
        "#Implement the following vector subtraction in numpy: u-v\n",
        "u = np.array([1, 0])\n",
        "v = np.array([0, 1])\n",
        "print('u-v:',u-v,'np.subtract(u,v):',np.subtract(u,v))\n",
        "#Multiply the numpy array z with -2:\n",
        "z = np.array([2, 4])\n",
        "print('z*-2:',z*-2)\n",
        "#Consider the list [1, 2, 3, 4, 5] and [1, 0, 1, 0, 1]. Cast both lists to a numpy array then multiply them together:\n",
        "print(np.array([1, 2, 3, 4, 5])*np.array([1, 0, 1, 0, 1]))\n",
        "print(np.multiply(np.array([1, 2, 3, 4, 5]),np.array([1, 0, 1, 0, 1])))\n",
        "#Recordemos que para las operaciones básicas podemos usar las palabras reservadas en la librería pandas\n",
        "#O usar directamente los operadores\n",
        "\n",
        "print(\"\")\n",
        "# Import the libraries\n",
        "\n",
        "import time\n",
        "import sys\n",
        "\n",
        "def Plotvec2(a,b):\n",
        "    ax = plt.axes()# to generate the full window axes\n",
        "    ax.arrow(0, 0, *a, head_width=0.05, color ='r', head_length=0.1)#Add an arrow to the  a Axes with arrow head width 0.05, color red and arrow head length 0.1\n",
        "    plt.text(*(a + 0.1), 'a')\n",
        "    ax.arrow(0, 0, *b, head_width=0.05, color ='b', head_length=0.1)#Add an arrow to the  b Axes with arrow head width 0.05, color blue and arrow head length 0.1\n",
        "    plt.text(*(b + 0.1), 'b')\n",
        "    plt.ylim(-2, 2)#set the ylim to bottom(-2), top(2)\n",
        "    plt.xlim(-2, 2)#set the xlim to left(-2), right(2)\n",
        "#Convert the list [-1, 1] and [1, 1] to numpy arrays a and b. Then, plot the arrays as vectors using the fuction Plotvec2 and find their dot product:\n",
        "a=np.array([-1, 1])\n",
        "b=np.array([1, 1])\n",
        "Plotvec2(a,b)\n",
        "print('Producto punto:',np.dot(a,b))\n",
        "#Convert the list [1, 0] and [0, 1] to numpy arrays a and b. Then, plot the arrays as vectors using the function Plotvec2 and find their dot product:\n",
        "a=np.array([1,0])\n",
        "b=np.array([0,1])\n",
        "Plotvec2(a,b) #Las gráficas se sobreponen\n",
        "print('Producto punto:',np.dot(a,b))\n",
        "#Convert the list [1, 1] and [0, 1] to numpy arrays a and b. Then plot the arrays as vectors using the fuction Plotvec2 and find their dot product:\n",
        "a=np.array([1,1])\n",
        "b=np.array([0,1])\n",
        "Plotvec2(a,b)\n",
        "print('Producto punto:',np.dot(a,b))\n",
        "#Convert the list [1, 2, 3] and [8, 9, 10] to numpy arrays arr1 and arr2. Then perform Addition , Subtraction , Multiplication , Division and Dot Operation on the arr1 and arr2\n",
        "arr1=np.array([1, 2, 3])\n",
        "arr2=np.array([8, 9, 10])\n",
        "print('Addition',np.add(arr1,arr2))\n",
        "print('Subtraction',np.subtract(arr1,arr2))\n",
        "print('Multiplication',np.multiply(arr1,arr2))\n",
        "print('Division',np.divide(arr1,arr2))\n",
        "print('Dot Operation',np.dot(arr1,arr2))\n",
        "#Convert the list [1, 2, 3, 4, 5] and [6, 7, 8, 9, 10] to numpy arrays arr1 and arr2. Then find the even and odd numbers from arr1 and arr2.\n",
        "arr1=np.array([1, 2, 3, 4, 5])\n",
        "arr2=np.array([6, 7, 8, 9, 10])\n",
        "print('pares arr1:',arr1[0:6:3],'pares arr2:',arr2[0:6:2]) #Formas\n",
        "print('pares arr1:',arr1[1:8:2],'pares arr2:',arr2[0:8:2]) #equivalentes"
      ],
      "metadata": {
        "colab": {
          "base_uri": "https://localhost:8080/",
          "height": 949
        },
        "id": "R2YjzY2nUKVG",
        "outputId": "7d4a9c44-190d-4b02-91b2-8acfb017095c"
      },
      "execution_count": null,
      "outputs": [
        {
          "output_type": "stream",
          "name": "stdout",
          "text": [
            "1.21.6\n",
            "float64\n",
            "[10  2 30 40 50]\n",
            "[10 20 30 40 50]\n",
            "[2 4 6 8]\n",
            "max arr: 8\n",
            "min arr: 1\n",
            "std arr: 2.29128784747792\n",
            "7\n",
            "1\n",
            "(7,)\n",
            "min: -10 max: 502 min+msx: 492\n",
            "[30 32 34 36 38 40]\n",
            "[30 32 34 36 38 40]\n",
            "[-10  -1   8  17  26  35]\n",
            "[-10  -1   8  17  26  35]\n",
            "[ 20  20  60 120 200 300]\n",
            "[ 3.33333333  4.          3.          5.         25.          1.81818182]\n",
            "26\n",
            "[6 7 8 4]\n",
            "[5.  4.8 4.6 4.4 4.2 4. ]\n",
            "[5.  4.8 4.6 4.4 4.2 4. ]\n",
            "u-v: [ 1 -1] np.subtract(u,v): [ 1 -1]\n",
            "z*-2: [-4 -8]\n",
            "[1 0 3 0 5]\n",
            "[1 0 3 0 5]\n",
            "\n",
            "Producto punto: 0\n",
            "Producto punto: 0\n",
            "Producto punto: 1\n",
            "Addition [ 9 11 13]\n",
            "Subtraction [-7 -7 -7]\n",
            "Multiplication [ 8 18 30]\n",
            "Division [0.125      0.22222222 0.3       ]\n",
            "Dot Operation 56\n",
            "pares arr1: [1 4] pares arr2: [ 6  8 10]\n",
            "pares arr1: [2 4] pares arr2: [ 6  8 10]\n"
          ]
        },
        {
          "output_type": "stream",
          "name": "stderr",
          "text": [
            "/usr/local/lib/python3.7/dist-packages/ipykernel_launcher.py:87: MatplotlibDeprecationWarning: Adding an axes using the same arguments as a previous axes currently reuses the earlier instance.  In a future version, a new instance will always be created and returned.  Meanwhile, this warning can be suppressed, and the future behavior ensured, by passing a unique label to each axes instance.\n"
          ]
        },
        {
          "output_type": "display_data",
          "data": {
            "text/plain": [
              "<Figure size 432x288 with 1 Axes>"
            ],
            "image/png": "[encoded data removed]"
          },
          "metadata": {
            "needs_background": "light"
          }
        }
      ]
    },
    {
      "cell_type": "markdown",
      "source": [
        "#### Numpy 2D Arrays (7:08)"
      ],
      "metadata": {
        "id": "UJyDunKYgQCq"
      }
    },
    {
      "cell_type": "code",
      "source": [
        "import numpy as np\n",
        "#Básicos\n",
        "lista_a=[[11,12,13],[21,22,23],[31,32,33]]\n",
        "print(lista_a)\n",
        "#Cast de lista a arreglo numpy 2D\n",
        "numpy_2D=np.array(lista_a)\n",
        "print(numpy_2D)\n",
        "print('Dimensiones:',numpy_2D.ndim) #Se refiere a la anidación de listas\n",
        "print('Tupla con dimensiones:',numpy_2D.shape)\n",
        "print('Cantidad de elementos:',numpy_2D.size)\n",
        "\n",
        "print(\"\")\n",
        "#Indexar\n",
        "print('Obtenemos el valor 32 (tercer fila, segundo elemento):',numpy_2D[2][1])\n",
        "#Debemos recordar que los índices inician en cero, por lo que si queremos\n",
        "#el valor 32 (tercer fila, segundo elemento, su índice será ese valor -1\n",
        "print('Obtenemos el valor 21 (segunda fila, primer elemento):',numpy_2D[1][0])\n",
        "print('Obtenemos los valores 11,12 (primera fila, primer y segundo elemento):',numpy_2D[0,0:2])\n",
        "#De igual forma, cuando mandamos llamar con índices en slicing, no se toca el último,\n",
        "#es decir, ese mismo elemento -1\n",
        "print('Obtenemos los valores 32,33 (última fila, segundo y tercer elemento):',numpy_2D[2,1:3])\n",
        "\n",
        "print(\"\")\n",
        "#Suma y resta\n",
        "a=np.array([[1,2],[3,4]])\n",
        "b=np.array([[5,6],[7,8]])\n",
        "print('a:',a,'b:',b)\n",
        "print('a+b:',a+b) #Se suma elemento por elemento\n",
        "print('a-b:',a-b) #Se resta elemento por elemento\n",
        "\n",
        "print(\"\")\n",
        "#Multiplicación\n",
        "print('a*b:',a*b) #Se multiplica elemento por elemento\n",
        "#Multipicación matricial\n",
        "print('Matriz a * matriz b:',np.dot(a,b)) #Se obtiene el producto punto a*b\n",
        "#Para multiplicar matrices, debemos asegurarnos que la cantidad de filas de la matriz a\n",
        "#es del mismo tamaño que la cantidad de columnas de la matriz b\n",
        "\n",
        "print(\"\")\n",
        "#------Numpy 2D Arrays (External resource) LAB------\n",
        "#You will use the numpy array A for the following questions.\n",
        "A=np.array([[11,12],[21,22],[31,32]])\n",
        "#Find the type of x using the function type().\n",
        "print(type(A))\n",
        "#Find the shape of the array:\n",
        "print(A.shape)\n",
        "#Find the type of data in the array:\n",
        "print(A.dtype)\n",
        "#Find the second row of the numpy array A:\n",
        "print(A[1])\n",
        "#You will use the following numpy arrays for the next questions:\n",
        "A=np.array([[11,12],[21,22]])\n",
        "B=np.array([[1, 0],[0,1]])\n",
        "#Multiply array A and B.\n",
        "print('A*B:',A*B)\n",
        "#Perform matrix multiplication on array A and B (order will not matter in this case).\n",
        "print('Producto punto de A*B, multiplicación matricial:',np.dot(A,B))\n",
        "#How many rows are in the following numpy array?\n",
        "A = np.array([[1,2],[3,4],[5,6],[7,8]])\n",
        "print(A.shape)\n",
        "#Is it possible to perform the following operation?\n",
        "print(\"\")\n",
        "A = np.array([[1,2],[3,4],[5,6],[7,8]])\n",
        "B = np.array([[1,2,3],[4,5,6],[7,8,9]])\n",
        "print(A.shape)\n",
        "print(B.shape)\n",
        "#print(np.dot(A,B)) #No\n",
        "#Se observa que no se tiene la misma cantidad de filas en A que columnas en B"
      ],
      "metadata": {
        "colab": {
          "base_uri": "https://localhost:8080/"
        },
        "id": "fLc_oGj0gSqT",
        "outputId": "f62fefdc-c310-4f40-a89b-3617aac10998"
      },
      "execution_count": null,
      "outputs": [
        {
          "output_type": "stream",
          "name": "stdout",
          "text": [
            "[[11, 12, 13], [21, 22, 23], [31, 32, 33]]\n",
            "[[11 12 13]\n",
            " [21 22 23]\n",
            " [31 32 33]]\n",
            "Dimensiones: 2\n",
            "Tupla con dimensiones: (3, 3)\n",
            "Cantidad de elementos: 9\n",
            "\n",
            "Obtenemos el valor 32 (tercer fila, segundo elemento): 32\n",
            "Obtenemos el valor 21 (segunda fila, primer elemento): 21\n",
            "Obtenemos los valores 11,12 (primera fila, primer y segundo elemento): [11 12]\n",
            "Obtenemos los valores 32,33 (última fila, segundo y tercer elemento): [32 33]\n",
            "\n",
            "a: [[1 2]\n",
            " [3 4]] b: [[5 6]\n",
            " [7 8]]\n",
            "a+b: [[ 6  8]\n",
            " [10 12]]\n",
            "a-b: [[-4 -4]\n",
            " [-4 -4]]\n",
            "\n",
            "a*b: [[ 5 12]\n",
            " [21 32]]\n",
            "Matriz a * matriz b: [[19 22]\n",
            " [43 50]]\n",
            "\n",
            "<class 'numpy.ndarray'>\n",
            "(3, 2)\n",
            "int64\n",
            "[21 22]\n",
            "A*B: [[11  0]\n",
            " [ 0 22]]\n",
            "Producto punto de A*B, multiplicación matricial: [[11 12]\n",
            " [21 22]]\n",
            "(4, 2)\n",
            "(4, 2)\n",
            "(3, 3)\n"
          ]
        }
      ]
    },
    {
      "cell_type": "markdown",
      "source": [
        "#### Lab - Working with 2D Numpy Arrays"
      ],
      "metadata": {
        "id": "1xX_mSM_TiNQ"
      }
    },
    {
      "cell_type": "code",
      "source": [
        "#Quiz on 2D Numpy Array\n",
        "#Consider the following list a, convert it to Numpy Array.\n",
        "a = [[1, 2, 3, 4], [5, 6, 7, 8], [9, 10, 11, 12]]\n",
        "A=np.array(a)\n",
        "print(A)\n",
        "#Calculate the numpy array size.\n",
        "print(A.size)\n",
        "#Access the element on the first row and first and second columns.\n",
        "# Write your code below and press Shift+Enter to execute\n",
        "print(A[0][0:2])\n",
        "print(A[0,0:2])\n",
        "#Perform matrix multiplication with the numpy arrays A and B.\n",
        "B = np.array([[0, 1], [1, 0], [1, 1], [-1, 0]])\n",
        "print('multiplicación matricial A*B:',np.dot(A,B))"
      ],
      "metadata": {
        "colab": {
          "base_uri": "https://localhost:8080/"
        },
        "id": "823jU1QPTkY9",
        "outputId": "eaa6e472-e72c-458c-d83f-dff81f0fde48"
      },
      "execution_count": null,
      "outputs": [
        {
          "output_type": "stream",
          "name": "stdout",
          "text": [
            "[[ 1  2  3  4]\n",
            " [ 5  6  7  8]\n",
            " [ 9 10 11 12]]\n",
            "12\n",
            "[1 2]\n",
            "[1 2]\n",
            "multiplicación matricial A*B: [[ 1  4]\n",
            " [ 5 12]\n",
            " [ 9 20]]\n"
          ]
        }
      ]
    },
    {
      "cell_type": "markdown",
      "source": [
        "#### Simple APIs - Part 1 (5:45)\n",
        "Un API oermite a dos piezas de software hablar o comunicarse entre sí.\n",
        "Pandas es de hecho un conjunto de componentes de software, no está escrito en Python, por lo tanto podemos usar el API de pandas para comunicar nuestro programa con sus componentes de software.\n",
        "\n",
        "**REST APIs**\n",
        "Es un tipo popular de API que nos permite comunicarnos a través del internet, lo que nos da más ventajas, como almacenamiento, acceder a más datos, algortimos de IA, etc.\n",
        "REpresentational State Transfer APIs (REST)\n",
        "HTTP es una forma de transmitir datos (método) a través de internet. Un mensaje HTTP suele contener un archivo JSON (que es como un diccionario) que son instrucciones para la operación que seamos el servidor ejecute.\n",
        "\n",
        "**nba_api:**\n",
        "API escrita por Swar Patel. En lugar de emplear un archivo tipo JSON, usa un ID, que es único (key)."
      ],
      "metadata": {
        "id": "ShedmABOV5as"
      }
    },
    {
      "cell_type": "code",
      "source": [
        "import pandas as pd\n",
        "car={'Letras':['A','B','C','D','E','F'],\n",
        "        'Años':[1995,1996,1997,1998,1999,2000],\n",
        "        'Numeros':['uno','dos','tres','cuatro','cinco','seis']}\n",
        "df=pd.DataFrame(car)\n",
        "#Cuando creamos un objeto de pandas con el cosntructor DataFrame,\n",
        "#se crea una instancia y usamos ese df para comunicarnos\n",
        "print(df)\n",
        "!pip install nba_api #Instala nba_api. Comentar si ya se ha hecho antes\n",
        "from nba_api.stats.static import teams #Importamos los equipos\n",
        "equiposNBA=teams.get_teams() #Asignamos los equipos a una variable\n",
        "equiposNBA[:5]\n",
        "def dicTable(ld): #Se crea una función para convertir el diccionario a tabla\n",
        "  keys=ld[0].keys()\n",
        "  salida={key:[]for key in keys}\n",
        "  for entrada in ld:\n",
        "    for key,value in entrada.items():\n",
        "      salida[key].append(value)\n",
        "  return salida\n",
        "dicNBA=dicTable(equiposNBA)\n",
        "equiposNBA=pd.DataFrame(dicNBA) #Se utiliza la función para convertir el diccionario a una lista\n",
        "equiposNBA.head() #Se imprimen los primeros 5 elementos\n",
        "dfWarriors=equiposNBA[equiposNBA['nickname']=='Warriors']\n",
        "print(dfWarriors)\n",
        "idW=dfWarriors[['id']].values[0][0] #Indexación de la columna id, primer elemento\n",
        "print(idW)\n",
        "\n",
        "from nba_api.stats.endpoints import (leaguegamefinder)\n",
        "gf=leaguegamefinder.LeagueGameFinder(team_id_nullable=idW) #NBA API hace una solicitud HTTP, que se transmite a NBA.com\n",
        "juegos=gf.get_data_frames()[0] #Se asigna su respuesa, que es un df\n",
        "juegos.head()\n",
        "ghome=juegos[juegos['MATCHUP']=='GSW vs. TOR']\n",
        "gaway=juegos[juegos['MATCHUP']=='GSW @ TOR']\n",
        "#print('Juegos en casa:',ghome,'Juegos fuera:',gaway)\n",
        "import matplotlib.pyplot as plt\n",
        "fig,ax=plt.subplots()\n",
        "gaway.plot(x='GAME_DATE',y='PLUS_MINUS',ax=ax)\n",
        "ghome.plot(x='GAME_DATE',y='PLUS_MINUS',ax=ax)\n",
        "ax.legend(['fuera','casa'])\n",
        "plt.show()\n",
        "print('Observamos que Warriors tienen un mejor desempeño en casa')"
      ],
      "metadata": {
        "colab": {
          "base_uri": "https://localhost:8080/",
          "height": 645
        },
        "id": "5wF7YqeNV75o",
        "outputId": "0b2498a6-481b-4159-85b4-07cb2d1d3cab"
      },
      "execution_count": null,
      "outputs": [
        {
          "output_type": "stream",
          "name": "stdout",
          "text": [
            "  Letras  Años Numeros\n",
            "0      A  1995     uno\n",
            "1      B  1996     dos\n",
            "2      C  1997    tres\n",
            "3      D  1998  cuatro\n",
            "4      E  1999   cinco\n",
            "5      F  2000    seis\n",
            "Looking in indexes: https://pypi.org/simple, https://us-python.pkg.dev/colab-wheels/public/simple/\n",
            "Requirement already satisfied: nba_api in /usr/local/lib/python3.7/dist-packages (1.1.11)\n",
            "Requirement already satisfied: requests in /usr/local/lib/python3.7/dist-packages (from nba_api) (2.23.0)\n",
            "Requirement already satisfied: chardet<4,>=3.0.2 in /usr/local/lib/python3.7/dist-packages (from requests->nba_api) (3.0.4)\n",
            "Requirement already satisfied: urllib3!=1.25.0,!=1.25.1,<1.26,>=1.21.1 in /usr/local/lib/python3.7/dist-packages (from requests->nba_api) (1.24.3)\n",
            "Requirement already satisfied: idna<3,>=2.5 in /usr/local/lib/python3.7/dist-packages (from requests->nba_api) (2.10)\n",
            "Requirement already satisfied: certifi>=2017.4.17 in /usr/local/lib/python3.7/dist-packages (from requests->nba_api) (2022.6.15)\n",
            "           id              full_name abbreviation  nickname          city  \\\n",
            "7  1610612744  Golden State Warriors          GSW  Warriors  Golden State   \n",
            "\n",
            "        state  year_founded  \n",
            "7  California          1946  \n",
            "1610612744\n"
          ]
        },
        {
          "output_type": "display_data",
          "data": {
            "text/plain": [
              "<Figure size 432x288 with 1 Axes>"
            ],
            "image/png": "[encoded data removed]"
          },
          "metadata": {
            "needs_background": "light"
          }
        },
        {
          "output_type": "stream",
          "name": "stdout",
          "text": [
            "Observamos que Warriors tienen un mejor desempeño en casa\n"
          ]
        }
      ]
    },
    {
      "cell_type": "markdown",
      "source": [
        "#### Simple APIs - Part 2 (5:01)\n",
        "**Postrequest** Mandamos una copia al API del archivo a procesar\n",
        "**API keys y Endpoints**\n",
        "- Key. Es una forma de acceder a la API. Un conjunto único de caracteres que la API usa para identificarnos y autorizarnos\n",
        "- Endpoints. Es la ubicación del servicio, se usa para encontrar al API en internet, tal como una dirección web"
      ],
      "metadata": {
        "id": "xOW2WHTfvBYP"
      }
    },
    {
      "cell_type": "code",
      "source": [
        "!pip install ibm_watson wget\n",
        "from ibm_watson import SpeechToTextV1 #Importamos desde ibm\n",
        "from ibm_watson import LanguageTranslatorV3 #Importamos desde ibm\n",
        "url_s2t='https://stream.watsonplatform.net/speech-to-text/api'\n",
        "key_s2t='EOeiZxxxDxV2xxxxxxxxxxxxxxxxxjYen9SKARKW-'\n",
        "url_t='https://gateway.watsonplatform.net/language-translator/api'\n",
        "key_t='dU2SaxxxxxxxxxxxxxxxasdfCuasdf'\n",
        "#Los ejemplos en el vídeo están enfocados a ejemplos de API\n",
        "#que utilizan algún tipo de IA\n",
        "#El ejemplo se deja hasta ese punto porque se requieren más recursos\n",
        "#como crear y usar una cuenta en la nube de IBM\n",
        "#Sin embargo, se entiende la demostración de cómo procesamos llaves para\n",
        "#acceder a al API y cómo lo encontramos también"
      ],
      "metadata": {
        "id": "_ICTVjbgvDhe",
        "colab": {
          "base_uri": "https://localhost:8080/"
        },
        "outputId": "3ad7b09f-6235-4826-bd67-59d294fb2d9a"
      },
      "execution_count": null,
      "outputs": [
        {
          "output_type": "stream",
          "name": "stdout",
          "text": [
            "Looking in indexes: https://pypi.org/simple, https://us-python.pkg.dev/colab-wheels/public/simple/\n",
            "Requirement already satisfied: ibm_watson in /usr/local/lib/python3.7/dist-packages (6.1.0)\n",
            "Requirement already satisfied: wget in /usr/local/lib/python3.7/dist-packages (3.2)\n",
            "Requirement already satisfied: websocket-client==1.1.0 in /usr/local/lib/python3.7/dist-packages (from ibm_watson) (1.1.0)\n",
            "Requirement already satisfied: requests<3.0,>=2.0 in /usr/local/lib/python3.7/dist-packages (from ibm_watson) (2.28.1)\n",
            "Requirement already satisfied: ibm-cloud-sdk-core==3.*,>=3.3.6 in /usr/local/lib/python3.7/dist-packages (from ibm_watson) (3.16.0)\n",
            "Requirement already satisfied: python-dateutil>=2.5.3 in /usr/local/lib/python3.7/dist-packages (from ibm_watson) (2.8.2)\n",
            "Requirement already satisfied: urllib3<2.0.0,>=1.26.0 in /usr/local/lib/python3.7/dist-packages (from ibm-cloud-sdk-core==3.*,>=3.3.6->ibm_watson) (1.26.12)\n",
            "Requirement already satisfied: PyJWT<3.0.0,>=2.4.0 in /usr/local/lib/python3.7/dist-packages (from ibm-cloud-sdk-core==3.*,>=3.3.6->ibm_watson) (2.5.0)\n",
            "Requirement already satisfied: six>=1.5 in /usr/local/lib/python3.7/dist-packages (from python-dateutil>=2.5.3->ibm_watson) (1.15.0)\n",
            "Requirement already satisfied: certifi>=2017.4.17 in /usr/local/lib/python3.7/dist-packages (from requests<3.0,>=2.0->ibm_watson) (2022.6.15)\n",
            "Requirement already satisfied: idna<4,>=2.5 in /usr/local/lib/python3.7/dist-packages (from requests<3.0,>=2.0->ibm_watson) (2.10)\n",
            "Requirement already satisfied: charset-normalizer<3,>=2 in /usr/local/lib/python3.7/dist-packages (from requests<3.0,>=2.0->ibm_watson) (2.1.1)\n"
          ]
        }
      ]
    },
    {
      "cell_type": "markdown",
      "source": [
        "#### Lab - HTTP and Requests\n",
        "**URL (Uniform Resource Locator)**. Es la forma más común de encontrar recursos en la web, que a su vez podemos dividir en:\n",
        "- Esquema (scheme). Protocolo http://\n",
        "- Dirección de internet o base URL. www.ejemplo.com\n",
        "- Ruta (route). Ubicación en el servidor web /images/logo.png\n",
        "\n",
        "Cuando hacemos una solicitud, recibimos una respuesta de vuelta y en ese mensaje se nos indica un estatus, los cuales vamos a interpretar por códigos. Algunos son:\n",
        "- 200: ok\n",
        "- 300: Multiples choises\n",
        "- 401: Unauthorized\n",
        "- 403: Forbidden\n",
        "- 404: Non found\n",
        "- 1xx: Informational\n",
        "- 2xx: Success\n",
        "- 3xx: Redirection\n",
        "- 4xx: Client error\n",
        "Donde el prefijo indica la clase"
      ],
      "metadata": {
        "id": "EQayvoTGnPxo"
      }
    },
    {
      "cell_type": "code",
      "source": [
        "#Para importarla librería de Python correspondiente a las solicitudes:\n",
        "import requests\n",
        "#Librerías necesarias\n",
        "import os\n",
        "from PIL import Image\n",
        "from IPython.display import IFrame\n",
        "#Question 1: write  wget\n",
        "#In the previous section, we used the wget function to retrieve content from the web server as shown below.\n",
        "#Write the python code to perform the same task. The code should be the same as the one used to download the image,\n",
        "#but the file name should be 'Example1.txt'.\n",
        "url='https://cf-courses-data.s3.us.cloud-object-storage.appdomain.cloud/IBMDeveloperSkillsNetwork-PY0101EN-SkillsNetwork/labs/Module%205/data/Example1.txt'\n",
        "path=os.path.join(os.getcwd(),'example1.txt')\n",
        "r=requests.get(url)\n",
        "with open(path,'wb') as f:\n",
        "    f.write(r.content)\n",
        "print(r.status_code) #print(r)\n",
        "print(\"Conforme los códigos de estatus, vemos que 200=ok\")\n",
        "print(r.text) #Imprimimos el texto contenido en el url\n",
        "print(r.text[0:20]) #Se imprimen solo los primeros 20 caracteres\n",
        "print(r.request.headers)\n",
        "print(\"request body:\", r.request.body) #No hay cuerpo en la solicitud\n",
        "header=r.headers\n",
        "print(r.headers) #Retorna un diccionario de Python con los encabezados de respuesta\n",
        "print(header['date']) #Fecha de la solicitud\n",
        "print(header['Content-Type']) #Retorna el tipo de datos del contenido\n",
        "print(r.encoding) #Tipo de cifrado\n",
        "print(\"\")\n",
        "#Obtener una imagen\n",
        "url='https://cf-courses-data.s3.us.cloud-object-storage.appdomain.cloud/IBMDeveloperSkillsNetwork-PY0101EN-SkillsNetwork/IDSNlogo.png' #Ubicación\n",
        "r=requests.get(url) #Solicitud\n",
        "#Una imagen es un objeto de respuesta que contiene la imagen, por lo que\n",
        "#debemos guardarlo usando un objeto de archivo\n",
        "path=os.path.join(os.getcwd(),'image.png')\n",
        "path\n",
        "with open(path,'wb') as f: #Guardamos el archivo con la función open y el método write\n",
        "    f.write(r.content) #Usamos el atributo content para acceder al cuerpo\n",
        "Image.open(path) #Visualizamos la imagen"
      ],
      "metadata": {
        "id": "Lck_ndwwnSxz",
        "colab": {
          "base_uri": "https://localhost:8080/",
          "height": 1000
        },
        "outputId": "0da994e1-82ba-4d22-a81d-0a33335eb266"
      },
      "execution_count": null,
      "outputs": [
        {
          "output_type": "stream",
          "name": "stdout",
          "text": [
            "200\n",
            "Conforme los códigos de estatus, vemos que 200=ok\n",
            "This is line 1 \n",
            "This is line 2\n",
            "This is line 3\n",
            "This is line 1 \n",
            "This\n",
            "{'User-Agent': 'python-requests/2.23.0', 'Accept-Encoding': 'gzip, deflate', 'Accept': '*/*', 'Connection': 'keep-alive'}\n",
            "request body: None\n",
            "{'Date': 'Thu, 29 Sep 2022 01:21:46 GMT', 'X-Clv-Request-Id': '701651db-3d7b-462d-8e0d-3cae7071e725', 'Server': 'Cleversafe', 'X-Clv-S3-Version': '2.5', 'Accept-Ranges': 'bytes', 'x-amz-request-id': '701651db-3d7b-462d-8e0d-3cae7071e725', 'Cache-Control': 'max-age=0,public', 'ETag': '\"522bc63a850f3569b8924c51131d5fe4\"', 'Content-Type': 'text/plain', 'Last-Modified': 'Wed, 14 Sep 2022 05:48:24 GMT', 'Content-Length': '45'}\n",
            "Thu, 29 Sep 2022 01:21:46 GMT\n",
            "text/plain\n",
            "ISO-8859-1\n",
            "\n"
          ]
        },
        {
          "output_type": "execute_result",
          "data": {
            "text/plain": [
              "<PIL.PngImagePlugin.PngImageFile image mode=P size=800x800 at 0x7FEB35C4BE50>"
            ],
            "image/png": "[encoded data removed]"
          },
          "metadata": {},
          "execution_count": 36
        }
      ]
    },
    {
      "cell_type": "markdown",
      "source": [
        "#### Lab - API"
      ],
      "metadata": {
        "id": "u48W2DOVIMhM"
      }
    },
    {
      "cell_type": "code",
      "source": [
        "!pip install randomuser\n",
        "#Librerías necesarias\n",
        "from randomuser import RandomUser\n",
        "import pandas as pd\n",
        "#Exercise 1\n",
        "#In this Exercise, generate photos of the random 5 users\n",
        "azar=RandomUser()\n",
        "usuarios=azar.generate_users(5)\n",
        "for user in usuarios:\n",
        "    print (user.get_full_name(),\" \",user.get_picture())\n",
        "\n",
        "print(\"\")\n",
        "import requests\n",
        "import json\n",
        "data = requests.get(\"https://www.fruityvice.com/api/fruit/all\")\n",
        "results = json.loads(data.text)\n",
        "pd.DataFrame(results)\n",
        "df2 = pd.json_normalize(results)\n",
        "print(df2)\n",
        "#Exercise 2\n",
        "#In this Exercise, find out how many calories are contained in a banana\n",
        "bana=df2.loc[df2[\"name\"]=='Banana']\n",
        "cal_banana=(bana.iloc[0]['nutritions.calories'])\n",
        "print(\"\")\n",
        "print('Calorías de la banana:',cal_banana)\n",
        "\n",
        "print(\"\")\n",
        "#Exercise 3\n",
        "#Using requests.get(\"url\") function, load your data\n",
        "#API sobre grabaciones de aves\n",
        "liga=requests.get('https://www.xeno-canto.org/api/2/recordings?query=cnt:brazil&page=5') #Obtenemos la API de xeno canto\n",
        "#La respuesta está en formato json\n",
        "#Retrieve results using json.loads() function\n",
        "contenido=json.loads(liga.text) #Recuperamos los resultados\n",
        "#Convert json data into pandas data frame\n",
        "json2df=pd.DataFrame(contenido) #Cast\n",
        "print(json2df) #Imprimos el df\n",
        "print(json2df.head())\n"
      ],
      "metadata": {
        "colab": {
          "base_uri": "https://localhost:8080/"
        },
        "id": "19VlTpRY0b7g",
        "outputId": "a596c045-e69c-4b7e-c67a-1de1cace1085"
      },
      "execution_count": null,
      "outputs": [
        {
          "output_type": "stream",
          "name": "stdout",
          "text": [
            "Traceback (most recent call last):\n",
            "  File \"/usr/local/bin/pip3\", line 5, in <module>\n",
            "    from pip._internal.cli.main import main\n",
            "  File \"/usr/local/lib/python3.7/dist-packages/pip/_internal/cli/main.py\", line 9, in <module>\n",
            "  File \"/usr/local/lib/python3.7/dist-packages/pip/_internal/cli/autocompletion.py\", line 10, in <module>\n",
            "    from pip._internal.cli.main_parser import create_main_parser\n",
            "  File \"/usr/local/lib/python3.7/dist-packages/pip/_internal/cli/main_parser.py\", line 8, in <module>\n",
            "    from pip._internal.cli import cmdoptions\n",
            "  File \"/usr/local/lib/python3.7/dist-packages/pip/_internal/cli/cmdoptions.py\", line 23, in <module>\n",
            "    from pip._internal.cli.parser import ConfigOptionParser\n",
            "  File \"/usr/local/lib/python3.7/dist-packages/pip/_internal/cli/parser.py\", line 12, in <module>\n",
            "    from pip._internal.configuration import Configuration, ConfigurationError\n",
            "  File \"/usr/local/lib/python3.7/dist-packages/pip/_internal/configuration.py\", line 21, in <module>\n",
            "    from pip._internal.exceptions import (\n",
            "  File \"/usr/local/lib/python3.7/dist-packages/pip/_internal/exceptions.py\", line 7, in <module>\n",
            "    from pip._vendor.pkg_resources import Distribution\n",
            "  File \"/usr/local/lib/python3.7/dist-packages/pip/_vendor/pkg_resources/__init__.py\", line 83, in <module>\n",
            "    __import__('pip._vendor.packaging.specifiers')\n",
            "  File \"/usr/local/lib/python3.7/dist-packages/pip/_vendor/packaging/specifiers.py\", line 631, in <module>\n",
            "    _prefix_regex = re.compile(r\"^([0-9]+)((?:a|b|c|rc)[0-9]+)$\")\n",
            "  File \"/usr/lib/python3.7/re.py\", line 236, in compile\n",
            "    return _compile(pattern, flags)\n",
            "  File \"/usr/lib/python3.7/re.py\", line 288, in _compile\n",
            "    p = sre_compile.compile(pattern, flags)\n",
            "  File \"/usr/lib/python3.7/sre_compile.py\", line 764, in compile\n",
            "    p = sre_parse.parse(p, flags)\n",
            "  File \"/usr/lib/python3.7/sre_parse.py\", line 924, in parse\n",
            "    p = _parse_sub(source, pattern, flags & SRE_FLAG_VERBOSE, 0)\n",
            "  File \"/usr/lib/python3.7/sre_parse.py\", line 420, in _parse_sub\n",
            "    not nested and not items))\n",
            "  File \"/usr/lib/python3.7/sre_parse.py\", line 810, in _parse\n",
            "    p = _parse_sub(source, state, sub_verbose, nested + 1)\n",
            "  File \"/usr/lib/python3.7/sre_parse.py\", line 420, in _parse_sub\n",
            "    not nested and not items))\n",
            "  File \"/usr/lib/python3.7/sre_parse.py\", line 828, in _parse\n",
            "    for i in range(len(subpattern))[::-1]:\n",
            "KeyboardInterrupt\n",
            "Kacper Sjo   https://randomuser.me/api/portraits/men/47.jpg\n",
            "Gottlob Wiemann   https://randomuser.me/api/portraits/men/90.jpg\n",
            "Pearl Brown   https://randomuser.me/api/portraits/women/17.jpg\n",
            "Tristan Gill   https://randomuser.me/api/portraits/men/69.jpg\n",
            "Theresia Markmann   https://randomuser.me/api/portraits/women/48.jpg\n",
            "\n",
            "         genus          name  id           family             order  \\\n",
            "0        Malus         Apple   6         Rosaceae           Rosales   \n",
            "1       Prunus       Apricot  35         Rosaceae           Rosales   \n",
            "2         Musa        Banana   1         Musaceae      Zingiberales   \n",
            "3        Rubus    Blackberry  64         Rosaceae           Rosales   \n",
            "4     Fragaria     Blueberry  33         Rosaceae           Rosales   \n",
            "5       Prunus        Cherry   9         Rosaceae              None   \n",
            "6        Durio        Durian  60        Malvaceae          Malvales   \n",
            "7        Ficus           Fig  68         Moraceae           Rosales   \n",
            "8        Ribes    Gooseberry  69  Grossulariaceae      Saxifragales   \n",
            "9        Vitis        Grapes  47         Vitaceae           Vitales   \n",
            "10       Malus    GreenApple  72         Rosaceae           Rosales   \n",
            "11     Psidium         Guava  37        Myrtaceae          Myrtales   \n",
            "12     Apteryx          Kiwi  66    Actinidiaceae  Struthioniformes   \n",
            "13      Citrus         Lemon  26         Rutaceae        Sapindales   \n",
            "14      Citrus          Lime  44         Rutaceae        Sapindales   \n",
            "15   Vaccinium   Lingonberry  65        Ericaceae          Ericales   \n",
            "16      Litchi        Lychee  67      Sapindaceae        Sapindales   \n",
            "17   Mangifera         Mango  27    Anacardiaceae        Sapindales   \n",
            "18     Cucumis         Melon  41    Cucurbitaceae     Cucurbitaceae   \n",
            "19      Citrus        Orange   2         Rutaceae        Sapindales   \n",
            "20      Carica        Papaya  42       Caricaceae         Caricacea   \n",
            "21  Passiflora  Passionfruit  70   Passifloraceae      Malpighiales   \n",
            "22       Pyrus          Pear   4         Rosaceae           Rosales   \n",
            "23   Diospyros     Persimmon  52        Ebenaceae           Rosales   \n",
            "24      Ananas     Pineapple  10     Bromeliaceae            Poales   \n",
            "25      Prunus          Plum  71         Rosaceae           Rosales   \n",
            "26       Rubus     Raspberry  23         Rosaceae           Rosales   \n",
            "27    Fragaria    Strawberry   3         Rosaceae           Rosales   \n",
            "28     Solanum        Tomato   5       Solanaceae         Solanales   \n",
            "29    Spondias          Umbu  73    Anacardiaceae                 0   \n",
            "30   Citrullus    Watermelon  25    Cucurbitaceae      Cucurbitales   \n",
            "\n",
            "    nutritions.carbohydrates  nutritions.protein  nutritions.fat  \\\n",
            "0                      11.40                0.30            0.40   \n",
            "1                       3.90                0.50            0.10   \n",
            "2                      22.00                1.00            0.20   \n",
            "3                       9.00                1.30            0.40   \n",
            "4                       5.50                0.00            0.40   \n",
            "5                      12.00                1.00            0.30   \n",
            "6                      27.10                1.50            5.30   \n",
            "7                      19.00                0.80            0.30   \n",
            "8                      10.00                0.90            0.60   \n",
            "9                      18.10                0.72            0.16   \n",
            "10                      3.10                0.40            0.10   \n",
            "11                     14.00                2.60            1.00   \n",
            "12                     15.00                1.10            0.50   \n",
            "13                      9.00                1.10            0.30   \n",
            "14                      8.40                0.30            0.10   \n",
            "15                     11.30                0.75            0.34   \n",
            "16                     17.00                0.80            0.44   \n",
            "17                     15.00                0.82            0.38   \n",
            "18                      8.00                0.00            0.00   \n",
            "19                      8.30                1.00            0.20   \n",
            "20                     11.00                0.00            0.40   \n",
            "21                     22.40                2.20            0.70   \n",
            "22                     15.00                0.40            0.10   \n",
            "23                     18.00                0.00            0.00   \n",
            "24                     13.12                0.54            0.12   \n",
            "25                     11.40                0.70            0.28   \n",
            "26                     12.00                1.20            0.70   \n",
            "27                      5.50                0.80            0.40   \n",
            "28                      3.90                0.90            0.20   \n",
            "29                      0.00                0.00            0.00   \n",
            "30                      8.00                0.60            0.20   \n",
            "\n",
            "    nutritions.calories  nutritions.sugar  \n",
            "0                    52             10.30  \n",
            "1                    15              3.20  \n",
            "2                    96             17.20  \n",
            "3                    40              4.50  \n",
            "4                    29              5.40  \n",
            "5                    50              8.00  \n",
            "6                   147              6.75  \n",
            "7                    74             16.00  \n",
            "8                    44              0.00  \n",
            "9                    69             15.48  \n",
            "10                   21              6.40  \n",
            "11                   68              9.00  \n",
            "12                   61              9.00  \n",
            "13                   29              2.50  \n",
            "14                   25              1.70  \n",
            "15                   50              5.74  \n",
            "16                   66             15.00  \n",
            "17                   60             13.70  \n",
            "18                   34              8.00  \n",
            "19                   43              8.20  \n",
            "20                   43              1.00  \n",
            "21                   97             11.20  \n",
            "22                   57             10.00  \n",
            "23                   81             18.00  \n",
            "24                   50              9.85  \n",
            "25                   46              9.92  \n",
            "26                   53              4.40  \n",
            "27                   29              5.40  \n",
            "28                   74              2.60  \n",
            "29                    0              0.00  \n",
            "30                   30              6.00  \n",
            "\n",
            "Calorías de la banana: 96\n",
            "\n",
            "    numRecordings numSpecies  page  numPages  \\\n",
            "0           62693       1667     5       126   \n",
            "1           62693       1667     5       126   \n",
            "2           62693       1667     5       126   \n",
            "3           62693       1667     5       126   \n",
            "4           62693       1667     5       126   \n",
            "..            ...        ...   ...       ...   \n",
            "495         62693       1667     5       126   \n",
            "496         62693       1667     5       126   \n",
            "497         62693       1667     5       126   \n",
            "498         62693       1667     5       126   \n",
            "499         62693       1667     5       126   \n",
            "\n",
            "                                            recordings  \n",
            "0    {'id': '41472', 'gen': 'Nyctibius', 'sp': 'gri...  \n",
            "1    {'id': '37892', 'gen': 'Nyctibius', 'sp': 'gri...  \n",
            "2    {'id': '32566', 'gen': 'Nyctibius', 'sp': 'gri...  \n",
            "3    {'id': '15936', 'gen': 'Nyctibius', 'sp': 'gri...  \n",
            "4    {'id': '5156', 'gen': 'Nyctibius', 'sp': 'gris...  \n",
            "..                                                 ...  \n",
            "495  {'id': '500042', 'gen': 'Hydropsalis', 'sp': '...  \n",
            "496  {'id': '500037', 'gen': 'Hydropsalis', 'sp': '...  \n",
            "497  {'id': '498051', 'gen': 'Hydropsalis', 'sp': '...  \n",
            "498  {'id': '474055', 'gen': 'Hydropsalis', 'sp': '...  \n",
            "499  {'id': '441769', 'gen': 'Hydropsalis', 'sp': '...  \n",
            "\n",
            "[500 rows x 5 columns]\n",
            "  numRecordings numSpecies  page  numPages  \\\n",
            "0         62693       1667     5       126   \n",
            "1         62693       1667     5       126   \n",
            "2         62693       1667     5       126   \n",
            "3         62693       1667     5       126   \n",
            "4         62693       1667     5       126   \n",
            "\n",
            "                                          recordings  \n",
            "0  {'id': '41472', 'gen': 'Nyctibius', 'sp': 'gri...  \n",
            "1  {'id': '37892', 'gen': 'Nyctibius', 'sp': 'gri...  \n",
            "2  {'id': '32566', 'gen': 'Nyctibius', 'sp': 'gri...  \n",
            "3  {'id': '15936', 'gen': 'Nyctibius', 'sp': 'gri...  \n",
            "4  {'id': '5156', 'gen': 'Nyctibius', 'sp': 'gris...  \n"
          ]
        }
      ]
    },
    {
      "cell_type": "markdown",
      "source": [
        "#### Review Questions"
      ],
      "metadata": {
        "id": "zyWKa2WDWt5j"
      }
    },
    {
      "cell_type": "code",
      "source": [
        "import numpy as np\n",
        "#What is the result of the following lines of code:\n",
        "a=np.array([0,1,0,1,0])\n",
        "b=np.array([1,0,1,0,1])\n",
        "print(a*b)\n",
        "#What is the result of the following lines of code:\n",
        "a=np.array([0,1])\n",
        "b=np.array([1,0])\n",
        "print(np.dot(a,b))\n",
        "#What is the result of the following lines of code:\n",
        "a=np.array([1,1,1,1,1])\n",
        "print(a+10)\n",
        "#What is the correct code to perform matrix multiplication on the matrix A and B?\n",
        "#np.dot(A,B)  --Producto punto para multiplicar matrices con numpy"
      ],
      "metadata": {
        "colab": {
          "base_uri": "https://localhost:8080/"
        },
        "id": "YXx-9ZQPWxXn",
        "outputId": "ab94d464-82dd-4718-97a0-e6398cafdab2"
      },
      "execution_count": null,
      "outputs": [
        {
          "output_type": "stream",
          "name": "stdout",
          "text": [
            "[0 0 0 0 0]\n",
            "0\n",
            "[11 11 11 11 11]\n"
          ]
        }
      ]
    },
    {
      "cell_type": "markdown",
      "source": [
        "# Certificate"
      ],
      "metadata": {
        "id": "WDie1GpqkciB"
      }
    },
    {
      "cell_type": "markdown",
      "source": [
        "Progreso"
      ],
      "metadata": {
        "id": "nv-JDBmKo-JU"
      }
    },
    {
      "cell_type": "markdown",
      "source": [
        "![ProgressIBM.png](data:image/png;base64,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)"
      ],
      "metadata": {
        "id": "j-SfkOZakgPU"
      }
    },
    {
      "cell_type": "markdown",
      "source": [
        "# Badge"
      ],
      "metadata": {
        "id": "O0tXAtllpbxJ"
      }
    },
    {
      "cell_type": "markdown",
      "source": [
        "![python-for-data-science.png](data:image/png;base64,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)"
      ],
      "metadata": {
        "id": "w3N1lnMcpFmp"
      }
    }
  ]
}